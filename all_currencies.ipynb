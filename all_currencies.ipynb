{
 "cells": [
  {
   "cell_type": "code",
   "execution_count": 2,
   "metadata": {},
   "outputs": [],
   "source": [
    "import numpy as np\n",
    "import pandas as pd\n",
    "import datetime\n",
    "from src.cleaning_functions import *\n",
    "from src.modelling_funcs import *\n",
    "import matplotlib.pyplot as plt\n",
    "import statsmodels.api as sm\n",
    "from statsmodels.tsa.ar_model import AR\n",
    "from statsmodels.tsa.arima_model import ARIMA\n",
    "from statsmodels.tsa.stattools import adfuller\n",
    "from sklearn.preprocessing import MinMaxScaler\n",
    "from sklearn.metrics import mean_squared_error\n",
    "from sklearn.metrics import mean_absolute_error\n",
    "import warnings"
   ]
  },
  {
   "cell_type": "code",
   "execution_count": 2,
   "metadata": {},
   "outputs": [],
   "source": [
    "# Not going to take the EUR-USD here, see the modelling notebook to see that information"
   ]
  },
  {
   "cell_type": "markdown",
   "metadata": {},
   "source": [
    "# USD-JPY"
   ]
  },
  {
   "cell_type": "code",
   "execution_count": 3,
   "metadata": {},
   "outputs": [
    {
     "data": {
      "text/html": [
       "<div>\n",
       "<style scoped>\n",
       "    .dataframe tbody tr th:only-of-type {\n",
       "        vertical-align: middle;\n",
       "    }\n",
       "\n",
       "    .dataframe tbody tr th {\n",
       "        vertical-align: top;\n",
       "    }\n",
       "\n",
       "    .dataframe thead th {\n",
       "        text-align: right;\n",
       "    }\n",
       "</style>\n",
       "<table border=\"1\" class=\"dataframe\">\n",
       "  <thead>\n",
       "    <tr style=\"text-align: right;\">\n",
       "      <th></th>\n",
       "      <th>HIGH_USD-JPY</th>\n",
       "      <th>LOW_USD-JPY</th>\n",
       "      <th>OPEN_USD-JPY</th>\n",
       "      <th>CLOSE_USD-JPY</th>\n",
       "    </tr>\n",
       "    <tr>\n",
       "      <th>DATE_TIME</th>\n",
       "      <th></th>\n",
       "      <th></th>\n",
       "      <th></th>\n",
       "      <th></th>\n",
       "    </tr>\n",
       "  </thead>\n",
       "  <tbody>\n",
       "    <tr>\n",
       "      <th>2019-01-02 06:00:00</th>\n",
       "      <td>109.427</td>\n",
       "      <td>109.353</td>\n",
       "      <td>109.418</td>\n",
       "      <td>109.357</td>\n",
       "    </tr>\n",
       "    <tr>\n",
       "      <th>2019-01-02 06:15:00</th>\n",
       "      <td>109.370</td>\n",
       "      <td>109.340</td>\n",
       "      <td>109.357</td>\n",
       "      <td>109.351</td>\n",
       "    </tr>\n",
       "    <tr>\n",
       "      <th>2019-01-02 06:30:00</th>\n",
       "      <td>109.386</td>\n",
       "      <td>109.346</td>\n",
       "      <td>109.351</td>\n",
       "      <td>109.364</td>\n",
       "    </tr>\n",
       "    <tr>\n",
       "      <th>2019-01-02 06:45:00</th>\n",
       "      <td>109.388</td>\n",
       "      <td>109.364</td>\n",
       "      <td>109.364</td>\n",
       "      <td>109.386</td>\n",
       "    </tr>\n",
       "    <tr>\n",
       "      <th>2019-01-02 07:00:00</th>\n",
       "      <td>109.403</td>\n",
       "      <td>109.367</td>\n",
       "      <td>109.386</td>\n",
       "      <td>109.400</td>\n",
       "    </tr>\n",
       "    <tr>\n",
       "      <th>...</th>\n",
       "      <td>...</td>\n",
       "      <td>...</td>\n",
       "      <td>...</td>\n",
       "      <td>...</td>\n",
       "    </tr>\n",
       "    <tr>\n",
       "      <th>2019-12-31 19:45:00</th>\n",
       "      <td>108.626</td>\n",
       "      <td>108.576</td>\n",
       "      <td>108.600</td>\n",
       "      <td>108.582</td>\n",
       "    </tr>\n",
       "    <tr>\n",
       "      <th>2019-12-31 20:00:00</th>\n",
       "      <td>108.621</td>\n",
       "      <td>108.582</td>\n",
       "      <td>108.582</td>\n",
       "      <td>108.609</td>\n",
       "    </tr>\n",
       "    <tr>\n",
       "      <th>2019-12-31 20:15:00</th>\n",
       "      <td>108.634</td>\n",
       "      <td>108.608</td>\n",
       "      <td>108.610</td>\n",
       "      <td>108.621</td>\n",
       "    </tr>\n",
       "    <tr>\n",
       "      <th>2019-12-31 20:30:00</th>\n",
       "      <td>108.639</td>\n",
       "      <td>108.619</td>\n",
       "      <td>108.621</td>\n",
       "      <td>108.626</td>\n",
       "    </tr>\n",
       "    <tr>\n",
       "      <th>2019-12-31 20:45:00</th>\n",
       "      <td>108.640</td>\n",
       "      <td>108.605</td>\n",
       "      <td>108.626</td>\n",
       "      <td>108.621</td>\n",
       "    </tr>\n",
       "  </tbody>\n",
       "</table>\n",
       "<p>24776 rows × 4 columns</p>\n",
       "</div>"
      ],
      "text/plain": [
       "                     HIGH_USD-JPY  LOW_USD-JPY  OPEN_USD-JPY  CLOSE_USD-JPY\n",
       "DATE_TIME                                                                  \n",
       "2019-01-02 06:00:00       109.427      109.353       109.418        109.357\n",
       "2019-01-02 06:15:00       109.370      109.340       109.357        109.351\n",
       "2019-01-02 06:30:00       109.386      109.346       109.351        109.364\n",
       "2019-01-02 06:45:00       109.388      109.364       109.364        109.386\n",
       "2019-01-02 07:00:00       109.403      109.367       109.386        109.400\n",
       "...                           ...          ...           ...            ...\n",
       "2019-12-31 19:45:00       108.626      108.576       108.600        108.582\n",
       "2019-12-31 20:00:00       108.621      108.582       108.582        108.609\n",
       "2019-12-31 20:15:00       108.634      108.608       108.610        108.621\n",
       "2019-12-31 20:30:00       108.639      108.619       108.621        108.626\n",
       "2019-12-31 20:45:00       108.640      108.605       108.626        108.621\n",
       "\n",
       "[24776 rows x 4 columns]"
      ]
     },
     "execution_count": 3,
     "metadata": {},
     "output_type": "execute_result"
    }
   ],
   "source": [
    "uj = pd.read_csv('./Input/USDJPY-2000-2020-15m.csv')\n",
    "uj_ = get_sample(uj,'2018-12-31 23:45:00','2020-01-01 00:00:00')\n",
    "uj_g = renaming(uj_, 'USD-JPY')\n",
    "uj_g"
   ]
  },
  {
   "cell_type": "code",
   "execution_count": 4,
   "metadata": {},
   "outputs": [
    {
     "name": "stdout",
     "output_type": "stream",
     "text": [
      "Entrenando con los datos desde la serie X\n",
      "Entrenando con los datos desde la serie Xf\n"
     ]
    },
    {
     "name": "stderr",
     "output_type": "stream",
     "text": [
      "/home/pablo/.local/lib/python3.8/site-packages/statsmodels/tsa/ar_model.py:691: FutureWarning: \n",
      "statsmodels.tsa.AR has been deprecated in favor of statsmodels.tsa.AutoReg and\n",
      "statsmodels.tsa.SARIMAX.\n",
      "\n",
      "AutoReg adds the ability to specify exogenous variables, include time trends,\n",
      "and add seasonal dummies. The AutoReg API differs from AR since the model is\n",
      "treated as immutable, and so the entire specification including the lag\n",
      "length must be specified when creating the model. This change is too\n",
      "substantial to incorporate into the existing AR api. The function\n",
      "ar_select_order performs lag length selection for AutoReg models.\n",
      "\n",
      "AutoReg only estimates parameters using conditional MLE (OLS). Use SARIMAX to\n",
      "estimate ARX and related models using full MLE via the Kalman Filter.\n",
      "\n",
      "To silence this warning and continue using AR until it is removed, use:\n",
      "\n",
      "import warnings\n",
      "warnings.filterwarnings('ignore', 'statsmodels.tsa.ar_model.AR', FutureWarning)\n",
      "\n",
      "  warnings.warn(AR_DEPRECATION_WARN, FutureWarning)\n",
      "/home/pablo/.local/lib/python3.8/site-packages/statsmodels/tsa/base/tsa_model.py:216: ValueWarning: A date index has been provided, but it has no associated frequency information and so will be ignored when e.g. forecasting.\n",
      "  warnings.warn('A date index has been provided, but it has no'\n",
      "/home/pablo/.local/lib/python3.8/site-packages/statsmodels/tsa/base/tsa_model.py:580: ValueWarning: No supported index is available. Prediction results will be given with an integer index beginning at `start`.\n",
      "  warnings.warn('No supported index is available.'\n",
      "/home/pablo/.local/lib/python3.8/site-packages/statsmodels/tsa/base/tsa_model.py:216: ValueWarning: A date index has been provided, but it has no associated frequency information and so will be ignored when e.g. forecasting.\n",
      "  warnings.warn('A date index has been provided, but it has no'\n",
      "/home/pablo/.local/lib/python3.8/site-packages/statsmodels/tsa/base/tsa_model.py:580: ValueWarning: No supported index is available. Prediction results will be given with an integer index beginning at `start`.\n",
      "  warnings.warn('No supported index is available.'\n"
     ]
    },
    {
     "data": {
      "text/html": [
       "<div>\n",
       "<style scoped>\n",
       "    .dataframe tbody tr th:only-of-type {\n",
       "        vertical-align: middle;\n",
       "    }\n",
       "\n",
       "    .dataframe tbody tr th {\n",
       "        vertical-align: top;\n",
       "    }\n",
       "\n",
       "    .dataframe thead th {\n",
       "        text-align: right;\n",
       "    }\n",
       "</style>\n",
       "<table border=\"1\" class=\"dataframe\">\n",
       "  <thead>\n",
       "    <tr style=\"text-align: right;\">\n",
       "      <th></th>\n",
       "      <th>GT</th>\n",
       "      <th>X</th>\n",
       "      <th>Xf</th>\n",
       "      <th>diff_X</th>\n",
       "      <th>diff_Xf</th>\n",
       "    </tr>\n",
       "    <tr>\n",
       "      <th>DATE_TIME</th>\n",
       "      <th></th>\n",
       "      <th></th>\n",
       "      <th></th>\n",
       "      <th></th>\n",
       "      <th></th>\n",
       "    </tr>\n",
       "  </thead>\n",
       "  <tbody>\n",
       "    <tr>\n",
       "      <th>2019-12-02 00:00:00</th>\n",
       "      <td>109.530</td>\n",
       "      <td>109.443501</td>\n",
       "      <td>109.478599</td>\n",
       "      <td>0.086499</td>\n",
       "      <td>0.051401</td>\n",
       "    </tr>\n",
       "    <tr>\n",
       "      <th>2019-12-02 00:15:00</th>\n",
       "      <td>109.499</td>\n",
       "      <td>109.443726</td>\n",
       "      <td>109.488975</td>\n",
       "      <td>0.055274</td>\n",
       "      <td>0.010025</td>\n",
       "    </tr>\n",
       "    <tr>\n",
       "      <th>2019-12-02 00:30:00</th>\n",
       "      <td>109.494</td>\n",
       "      <td>109.443347</td>\n",
       "      <td>109.500952</td>\n",
       "      <td>0.050653</td>\n",
       "      <td>-0.006952</td>\n",
       "    </tr>\n",
       "    <tr>\n",
       "      <th>2019-12-02 00:45:00</th>\n",
       "      <td>109.512</td>\n",
       "      <td>109.443216</td>\n",
       "      <td>109.514244</td>\n",
       "      <td>0.068784</td>\n",
       "      <td>-0.002244</td>\n",
       "    </tr>\n",
       "    <tr>\n",
       "      <th>2019-12-02 01:00:00</th>\n",
       "      <td>109.535</td>\n",
       "      <td>109.443070</td>\n",
       "      <td>109.528472</td>\n",
       "      <td>0.091930</td>\n",
       "      <td>0.006528</td>\n",
       "    </tr>\n",
       "    <tr>\n",
       "      <th>...</th>\n",
       "      <td>...</td>\n",
       "      <td>...</td>\n",
       "      <td>...</td>\n",
       "      <td>...</td>\n",
       "      <td>...</td>\n",
       "    </tr>\n",
       "    <tr>\n",
       "      <th>2019-12-31 19:45:00</th>\n",
       "      <td>108.582</td>\n",
       "      <td>109.239222</td>\n",
       "      <td>109.041422</td>\n",
       "      <td>-0.657222</td>\n",
       "      <td>-0.459422</td>\n",
       "    </tr>\n",
       "    <tr>\n",
       "      <th>2019-12-31 20:00:00</th>\n",
       "      <td>108.609</td>\n",
       "      <td>109.239147</td>\n",
       "      <td>109.041408</td>\n",
       "      <td>-0.630147</td>\n",
       "      <td>-0.432408</td>\n",
       "    </tr>\n",
       "    <tr>\n",
       "      <th>2019-12-31 20:15:00</th>\n",
       "      <td>108.621</td>\n",
       "      <td>109.239073</td>\n",
       "      <td>109.041394</td>\n",
       "      <td>-0.618073</td>\n",
       "      <td>-0.420394</td>\n",
       "    </tr>\n",
       "    <tr>\n",
       "      <th>2019-12-31 20:30:00</th>\n",
       "      <td>108.626</td>\n",
       "      <td>109.238998</td>\n",
       "      <td>109.041381</td>\n",
       "      <td>-0.612998</td>\n",
       "      <td>-0.415381</td>\n",
       "    </tr>\n",
       "    <tr>\n",
       "      <th>2019-12-31 20:45:00</th>\n",
       "      <td>108.621</td>\n",
       "      <td>109.238923</td>\n",
       "      <td>109.041367</td>\n",
       "      <td>-0.617923</td>\n",
       "      <td>-0.420367</td>\n",
       "    </tr>\n",
       "  </tbody>\n",
       "</table>\n",
       "<p>1968 rows × 5 columns</p>\n",
       "</div>"
      ],
      "text/plain": [
       "                          GT           X          Xf    diff_X   diff_Xf\n",
       "DATE_TIME                                                               \n",
       "2019-12-02 00:00:00  109.530  109.443501  109.478599  0.086499  0.051401\n",
       "2019-12-02 00:15:00  109.499  109.443726  109.488975  0.055274  0.010025\n",
       "2019-12-02 00:30:00  109.494  109.443347  109.500952  0.050653 -0.006952\n",
       "2019-12-02 00:45:00  109.512  109.443216  109.514244  0.068784 -0.002244\n",
       "2019-12-02 01:00:00  109.535  109.443070  109.528472  0.091930  0.006528\n",
       "...                      ...         ...         ...       ...       ...\n",
       "2019-12-31 19:45:00  108.582  109.239222  109.041422 -0.657222 -0.459422\n",
       "2019-12-31 20:00:00  108.609  109.239147  109.041408 -0.630147 -0.432408\n",
       "2019-12-31 20:15:00  108.621  109.239073  109.041394 -0.618073 -0.420394\n",
       "2019-12-31 20:30:00  108.626  109.238998  109.041381 -0.612998 -0.415381\n",
       "2019-12-31 20:45:00  108.621  109.238923  109.041367 -0.617923 -0.420367\n",
       "\n",
       "[1968 rows x 5 columns]"
      ]
     },
     "execution_count": 4,
     "metadata": {},
     "output_type": "execute_result"
    }
   ],
   "source": [
    "U_J_predictions_AR = modelling_AR(uj_g, 'USD-JPY')\n",
    "U_J_predictions_AR"
   ]
  },
  {
   "cell_type": "code",
   "execution_count": 5,
   "metadata": {},
   "outputs": [
    {
     "name": "stdout",
     "output_type": "stream",
     "text": [
      "AR Model X ->  MSE=0.22565868861232463  RMSE=0.47503546037356476  MAPE=0.3580792364756238  MAE=0.3898679934827795\n",
      "AR Model Xf ->  MSE=0.3679655561388241  RMSE=0.6066016453479368  MAPE=0.4897840690781206  MAE=0.5337899245018543\n"
     ]
    }
   ],
   "source": [
    "mse_uj, rmse_uj, mape_uj, mae_uj = get_metrics(U_J_predictions_AR, uj_g, 'USD-JPY')"
   ]
  },
  {
   "cell_type": "code",
   "execution_count": 6,
   "metadata": {},
   "outputs": [],
   "source": [
    "#Cannot get the ARIMA model from USD-JPY because of the maxlag with this pair values\n",
    "#U_J_predictions_ARIMA = modelling_ARIMA(uj_g, 'USD-JPY')\n",
    "#U_J_predictions_ARIMA"
   ]
  },
  {
   "cell_type": "markdown",
   "metadata": {},
   "source": [
    "### LSTM"
   ]
  },
  {
   "cell_type": "code",
   "execution_count": 7,
   "metadata": {},
   "outputs": [
    {
     "data": {
      "text/html": [
       "<div>\n",
       "<style scoped>\n",
       "    .dataframe tbody tr th:only-of-type {\n",
       "        vertical-align: middle;\n",
       "    }\n",
       "\n",
       "    .dataframe tbody tr th {\n",
       "        vertical-align: top;\n",
       "    }\n",
       "\n",
       "    .dataframe thead th {\n",
       "        text-align: right;\n",
       "    }\n",
       "</style>\n",
       "<table border=\"1\" class=\"dataframe\">\n",
       "  <thead>\n",
       "    <tr style=\"text-align: right;\">\n",
       "      <th></th>\n",
       "      <th>high_USD-JPY</th>\n",
       "      <th>low_USD-JPY</th>\n",
       "      <th>open_USD-JPY</th>\n",
       "      <th>close_USD-JPY</th>\n",
       "    </tr>\n",
       "    <tr>\n",
       "      <th>time</th>\n",
       "      <th></th>\n",
       "      <th></th>\n",
       "      <th></th>\n",
       "      <th></th>\n",
       "    </tr>\n",
       "  </thead>\n",
       "  <tbody>\n",
       "    <tr>\n",
       "      <th>2019-01-02 06:00:00</th>\n",
       "      <td>109.427</td>\n",
       "      <td>109.353</td>\n",
       "      <td>109.418</td>\n",
       "      <td>109.357</td>\n",
       "    </tr>\n",
       "    <tr>\n",
       "      <th>2019-01-02 06:15:00</th>\n",
       "      <td>109.370</td>\n",
       "      <td>109.340</td>\n",
       "      <td>109.357</td>\n",
       "      <td>109.351</td>\n",
       "    </tr>\n",
       "    <tr>\n",
       "      <th>2019-01-02 06:30:00</th>\n",
       "      <td>109.386</td>\n",
       "      <td>109.346</td>\n",
       "      <td>109.351</td>\n",
       "      <td>109.364</td>\n",
       "    </tr>\n",
       "    <tr>\n",
       "      <th>2019-01-02 06:45:00</th>\n",
       "      <td>109.388</td>\n",
       "      <td>109.364</td>\n",
       "      <td>109.364</td>\n",
       "      <td>109.386</td>\n",
       "    </tr>\n",
       "    <tr>\n",
       "      <th>2019-01-02 07:00:00</th>\n",
       "      <td>109.403</td>\n",
       "      <td>109.367</td>\n",
       "      <td>109.386</td>\n",
       "      <td>109.400</td>\n",
       "    </tr>\n",
       "    <tr>\n",
       "      <th>...</th>\n",
       "      <td>...</td>\n",
       "      <td>...</td>\n",
       "      <td>...</td>\n",
       "      <td>...</td>\n",
       "    </tr>\n",
       "    <tr>\n",
       "      <th>2019-12-31 19:45:00</th>\n",
       "      <td>108.626</td>\n",
       "      <td>108.576</td>\n",
       "      <td>108.600</td>\n",
       "      <td>108.582</td>\n",
       "    </tr>\n",
       "    <tr>\n",
       "      <th>2019-12-31 20:00:00</th>\n",
       "      <td>108.621</td>\n",
       "      <td>108.582</td>\n",
       "      <td>108.582</td>\n",
       "      <td>108.609</td>\n",
       "    </tr>\n",
       "    <tr>\n",
       "      <th>2019-12-31 20:15:00</th>\n",
       "      <td>108.634</td>\n",
       "      <td>108.608</td>\n",
       "      <td>108.610</td>\n",
       "      <td>108.621</td>\n",
       "    </tr>\n",
       "    <tr>\n",
       "      <th>2019-12-31 20:30:00</th>\n",
       "      <td>108.639</td>\n",
       "      <td>108.619</td>\n",
       "      <td>108.621</td>\n",
       "      <td>108.626</td>\n",
       "    </tr>\n",
       "    <tr>\n",
       "      <th>2019-12-31 20:45:00</th>\n",
       "      <td>108.640</td>\n",
       "      <td>108.605</td>\n",
       "      <td>108.626</td>\n",
       "      <td>108.621</td>\n",
       "    </tr>\n",
       "  </tbody>\n",
       "</table>\n",
       "<p>24776 rows × 4 columns</p>\n",
       "</div>"
      ],
      "text/plain": [
       "                     high_USD-JPY  low_USD-JPY  open_USD-JPY  close_USD-JPY\n",
       "time                                                                       \n",
       "2019-01-02 06:00:00       109.427      109.353       109.418        109.357\n",
       "2019-01-02 06:15:00       109.370      109.340       109.357        109.351\n",
       "2019-01-02 06:30:00       109.386      109.346       109.351        109.364\n",
       "2019-01-02 06:45:00       109.388      109.364       109.364        109.386\n",
       "2019-01-02 07:00:00       109.403      109.367       109.386        109.400\n",
       "...                           ...          ...           ...            ...\n",
       "2019-12-31 19:45:00       108.626      108.576       108.600        108.582\n",
       "2019-12-31 20:00:00       108.621      108.582       108.582        108.609\n",
       "2019-12-31 20:15:00       108.634      108.608       108.610        108.621\n",
       "2019-12-31 20:30:00       108.639      108.619       108.621        108.626\n",
       "2019-12-31 20:45:00       108.640      108.605       108.626        108.621\n",
       "\n",
       "[24776 rows x 4 columns]"
      ]
     },
     "execution_count": 7,
     "metadata": {},
     "output_type": "execute_result"
    }
   ],
   "source": [
    "usd_jpy = pd.read_csv('./Input/USDJPY-2000-2020-15m.csv')\n",
    "usd_jpy_LSTM = red_LSTM(usd_jpy, 'USD-JPY', '2019-12-01 23:45:00','2020-01-01 00:00:00')\n",
    "usd_jpy_LSTM"
   ]
  },
  {
   "cell_type": "code",
   "execution_count": 8,
   "metadata": {},
   "outputs": [
    {
     "name": "stdout",
     "output_type": "stream",
     "text": [
      "Epoch 1/4\n",
      "22293/22293 [==============================] - 81s 4ms/step - loss: 0.0036 - mae: 0.0340\n",
      "Epoch 2/4\n",
      "22293/22293 [==============================] - 76s 3ms/step - loss: 0.0013 - mae: 0.0246\n",
      "Epoch 3/4\n",
      "22293/22293 [==============================] - 81s 4ms/step - loss: 0.0013 - mae: 0.0244\n",
      "Epoch 4/4\n",
      "22293/22293 [==============================] - 80s 4ms/step - loss: 0.0012 - mae: 0.0239\n"
     ]
    }
   ],
   "source": [
    "model_LSTM_uj, model_uj, X_test_uj, y_test_uj, y_scaler_uj = modelling_LSTM(usd_jpy_LSTM, 'USD-JPY',4)"
   ]
  },
  {
   "cell_type": "code",
   "execution_count": 9,
   "metadata": {},
   "outputs": [],
   "source": [
    "pred = model_uj.predict(X_test_uj)"
   ]
  },
  {
   "cell_type": "code",
   "execution_count": 10,
   "metadata": {},
   "outputs": [
    {
     "data": {
      "text/plain": [
       "(2483, 1)"
      ]
     },
     "execution_count": 10,
     "metadata": {},
     "output_type": "execute_result"
    }
   ],
   "source": [
    "prediction_uj = np.reshape(pred, (2478, 4))\n",
    "y_test = y_test_uj.values.reshape(2483,1)\n",
    "y_test.shape"
   ]
  },
  {
   "cell_type": "code",
   "execution_count": 11,
   "metadata": {},
   "outputs": [],
   "source": [
    "prediction_uj = pd.DataFrame(prediction_uj)"
   ]
  },
  {
   "cell_type": "code",
   "execution_count": 12,
   "metadata": {},
   "outputs": [],
   "source": [
    "predict = []\n",
    "for i in range(len(prediction_uj)):\n",
    "        \n",
    "        x = (prediction_uj.iloc[i].sum())/(len(prediction_uj.iloc[i]))\n",
    "        predict.append(x)"
   ]
  },
  {
   "cell_type": "code",
   "execution_count": 13,
   "metadata": {},
   "outputs": [],
   "source": [
    "prediction_uj['pred']= predict\n",
    "prediction_clean = prediction_uj.drop(columns={0,1,2,3})\n"
   ]
  },
  {
   "cell_type": "code",
   "execution_count": 14,
   "metadata": {},
   "outputs": [
    {
     "data": {
      "text/html": [
       "<div>\n",
       "<style scoped>\n",
       "    .dataframe tbody tr th:only-of-type {\n",
       "        vertical-align: middle;\n",
       "    }\n",
       "\n",
       "    .dataframe tbody tr th {\n",
       "        vertical-align: top;\n",
       "    }\n",
       "\n",
       "    .dataframe thead th {\n",
       "        text-align: right;\n",
       "    }\n",
       "</style>\n",
       "<table border=\"1\" class=\"dataframe\">\n",
       "  <thead>\n",
       "    <tr style=\"text-align: right;\">\n",
       "      <th></th>\n",
       "      <th>predicted</th>\n",
       "      <th>GT</th>\n",
       "    </tr>\n",
       "  </thead>\n",
       "  <tbody>\n",
       "    <tr>\n",
       "      <th>0</th>\n",
       "      <td>108.517148</td>\n",
       "      <td>108.543996</td>\n",
       "    </tr>\n",
       "    <tr>\n",
       "      <th>1</th>\n",
       "      <td>108.535131</td>\n",
       "      <td>108.558996</td>\n",
       "    </tr>\n",
       "    <tr>\n",
       "      <th>2</th>\n",
       "      <td>108.545435</td>\n",
       "      <td>108.596996</td>\n",
       "    </tr>\n",
       "    <tr>\n",
       "      <th>3</th>\n",
       "      <td>108.551957</td>\n",
       "      <td>108.570996</td>\n",
       "    </tr>\n",
       "    <tr>\n",
       "      <th>4</th>\n",
       "      <td>108.557152</td>\n",
       "      <td>108.581996</td>\n",
       "    </tr>\n",
       "    <tr>\n",
       "      <th>...</th>\n",
       "      <td>...</td>\n",
       "      <td>...</td>\n",
       "    </tr>\n",
       "    <tr>\n",
       "      <th>2473</th>\n",
       "      <td>108.627464</td>\n",
       "      <td>108.668996</td>\n",
       "    </tr>\n",
       "    <tr>\n",
       "      <th>2474</th>\n",
       "      <td>108.617284</td>\n",
       "      <td>108.666996</td>\n",
       "    </tr>\n",
       "    <tr>\n",
       "      <th>2475</th>\n",
       "      <td>108.593814</td>\n",
       "      <td>108.606996</td>\n",
       "    </tr>\n",
       "    <tr>\n",
       "      <th>2476</th>\n",
       "      <td>108.580833</td>\n",
       "      <td>108.631996</td>\n",
       "    </tr>\n",
       "    <tr>\n",
       "      <th>2477</th>\n",
       "      <td>108.571581</td>\n",
       "      <td>108.599996</td>\n",
       "    </tr>\n",
       "  </tbody>\n",
       "</table>\n",
       "<p>2478 rows × 2 columns</p>\n",
       "</div>"
      ],
      "text/plain": [
       "       predicted          GT\n",
       "0     108.517148  108.543996\n",
       "1     108.535131  108.558996\n",
       "2     108.545435  108.596996\n",
       "3     108.551957  108.570996\n",
       "4     108.557152  108.581996\n",
       "...          ...         ...\n",
       "2473  108.627464  108.668996\n",
       "2474  108.617284  108.666996\n",
       "2475  108.593814  108.606996\n",
       "2476  108.580833  108.631996\n",
       "2477  108.571581  108.599996\n",
       "\n",
       "[2478 rows x 2 columns]"
      ]
     },
     "execution_count": 14,
     "metadata": {},
     "output_type": "execute_result"
    }
   ],
   "source": [
    "pred = y_scaler_uj.inverse_transform(prediction_clean)\n",
    "close = y_scaler_uj.inverse_transform(y_test)\n",
    "\n",
    "predictions = pd.DataFrame()\n",
    "predictions['predicted'] = pd.Series(np.reshape(pred, (pred.shape[0])))\n",
    "predictions['GT'] = pd.Series(np.reshape(close, (close.shape[0])))\n",
    "predictions"
   ]
  },
  {
   "cell_type": "code",
   "execution_count": 15,
   "metadata": {},
   "outputs": [
    {
     "name": "stdout",
     "output_type": "stream",
     "text": [
      "MSE :  0.0023590851498311283\n",
      "MAE :  0.04665424391429259\n"
     ]
    }
   ],
   "source": [
    "print(\"MSE : \", mean_squared_error(predictions['predicted'].values, predictions['GT'].values))\n",
    "print(\"MAE : \", mean_absolute_error(predictions['predicted'].values, predictions['GT'].values))"
   ]
  },
  {
   "cell_type": "markdown",
   "metadata": {},
   "source": [
    "# AUD-USD"
   ]
  },
  {
   "cell_type": "code",
   "execution_count": 16,
   "metadata": {},
   "outputs": [
    {
     "data": {
      "text/html": [
       "<div>\n",
       "<style scoped>\n",
       "    .dataframe tbody tr th:only-of-type {\n",
       "        vertical-align: middle;\n",
       "    }\n",
       "\n",
       "    .dataframe tbody tr th {\n",
       "        vertical-align: top;\n",
       "    }\n",
       "\n",
       "    .dataframe thead th {\n",
       "        text-align: right;\n",
       "    }\n",
       "</style>\n",
       "<table border=\"1\" class=\"dataframe\">\n",
       "  <thead>\n",
       "    <tr style=\"text-align: right;\">\n",
       "      <th></th>\n",
       "      <th>HIGH_AUD-USD</th>\n",
       "      <th>LOW_AUD-USD</th>\n",
       "      <th>OPEN_AUD-USD</th>\n",
       "      <th>CLOSE_AUD-USD</th>\n",
       "    </tr>\n",
       "    <tr>\n",
       "      <th>DATE_TIME</th>\n",
       "      <th></th>\n",
       "      <th></th>\n",
       "      <th></th>\n",
       "      <th></th>\n",
       "    </tr>\n",
       "  </thead>\n",
       "  <tbody>\n",
       "    <tr>\n",
       "      <th>2019-01-02 06:00:00</th>\n",
       "      <td>0.70115</td>\n",
       "      <td>0.70035</td>\n",
       "      <td>0.70106</td>\n",
       "      <td>0.70076</td>\n",
       "    </tr>\n",
       "    <tr>\n",
       "      <th>2019-01-02 06:15:00</th>\n",
       "      <td>0.70200</td>\n",
       "      <td>0.70077</td>\n",
       "      <td>0.70077</td>\n",
       "      <td>0.70199</td>\n",
       "    </tr>\n",
       "    <tr>\n",
       "      <th>2019-01-02 06:30:00</th>\n",
       "      <td>0.70206</td>\n",
       "      <td>0.70159</td>\n",
       "      <td>0.70199</td>\n",
       "      <td>0.70182</td>\n",
       "    </tr>\n",
       "    <tr>\n",
       "      <th>2019-01-02 06:45:00</th>\n",
       "      <td>0.70194</td>\n",
       "      <td>0.70163</td>\n",
       "      <td>0.70182</td>\n",
       "      <td>0.70189</td>\n",
       "    </tr>\n",
       "    <tr>\n",
       "      <th>2019-01-02 07:00:00</th>\n",
       "      <td>0.70202</td>\n",
       "      <td>0.70175</td>\n",
       "      <td>0.70187</td>\n",
       "      <td>0.70193</td>\n",
       "    </tr>\n",
       "    <tr>\n",
       "      <th>...</th>\n",
       "      <td>...</td>\n",
       "      <td>...</td>\n",
       "      <td>...</td>\n",
       "      <td>...</td>\n",
       "    </tr>\n",
       "    <tr>\n",
       "      <th>2019-12-31 19:45:00</th>\n",
       "      <td>0.70284</td>\n",
       "      <td>0.70235</td>\n",
       "      <td>0.70279</td>\n",
       "      <td>0.70238</td>\n",
       "    </tr>\n",
       "    <tr>\n",
       "      <th>2019-12-31 20:00:00</th>\n",
       "      <td>0.70247</td>\n",
       "      <td>0.70228</td>\n",
       "      <td>0.70238</td>\n",
       "      <td>0.70230</td>\n",
       "    </tr>\n",
       "    <tr>\n",
       "      <th>2019-12-31 20:15:00</th>\n",
       "      <td>0.70230</td>\n",
       "      <td>0.70201</td>\n",
       "      <td>0.70229</td>\n",
       "      <td>0.70219</td>\n",
       "    </tr>\n",
       "    <tr>\n",
       "      <th>2019-12-31 20:30:00</th>\n",
       "      <td>0.70220</td>\n",
       "      <td>0.70181</td>\n",
       "      <td>0.70219</td>\n",
       "      <td>0.70200</td>\n",
       "    </tr>\n",
       "    <tr>\n",
       "      <th>2019-12-31 20:45:00</th>\n",
       "      <td>0.70200</td>\n",
       "      <td>0.70155</td>\n",
       "      <td>0.70200</td>\n",
       "      <td>0.70155</td>\n",
       "    </tr>\n",
       "  </tbody>\n",
       "</table>\n",
       "<p>24776 rows × 4 columns</p>\n",
       "</div>"
      ],
      "text/plain": [
       "                     HIGH_AUD-USD  LOW_AUD-USD  OPEN_AUD-USD  CLOSE_AUD-USD\n",
       "DATE_TIME                                                                  \n",
       "2019-01-02 06:00:00       0.70115      0.70035       0.70106        0.70076\n",
       "2019-01-02 06:15:00       0.70200      0.70077       0.70077        0.70199\n",
       "2019-01-02 06:30:00       0.70206      0.70159       0.70199        0.70182\n",
       "2019-01-02 06:45:00       0.70194      0.70163       0.70182        0.70189\n",
       "2019-01-02 07:00:00       0.70202      0.70175       0.70187        0.70193\n",
       "...                           ...          ...           ...            ...\n",
       "2019-12-31 19:45:00       0.70284      0.70235       0.70279        0.70238\n",
       "2019-12-31 20:00:00       0.70247      0.70228       0.70238        0.70230\n",
       "2019-12-31 20:15:00       0.70230      0.70201       0.70229        0.70219\n",
       "2019-12-31 20:30:00       0.70220      0.70181       0.70219        0.70200\n",
       "2019-12-31 20:45:00       0.70200      0.70155       0.70200        0.70155\n",
       "\n",
       "[24776 rows x 4 columns]"
      ]
     },
     "execution_count": 16,
     "metadata": {},
     "output_type": "execute_result"
    }
   ],
   "source": [
    "au = pd.read_csv('./Input/AUDUSD-2000-2020-15m.csv')\n",
    "au_ = get_sample(au,'2018-12-31 23:45:00','2020-01-01 00:00:00')\n",
    "au_g = renaming(au_, 'AUD-USD')\n",
    "au_g"
   ]
  },
  {
   "cell_type": "code",
   "execution_count": 17,
   "metadata": {},
   "outputs": [
    {
     "name": "stdout",
     "output_type": "stream",
     "text": [
      "Entrenando con los datos desde la serie X\n",
      "Entrenando con los datos desde la serie Xf\n"
     ]
    },
    {
     "name": "stderr",
     "output_type": "stream",
     "text": [
      "/home/pablo/.local/lib/python3.8/site-packages/statsmodels/tsa/ar_model.py:691: FutureWarning: \n",
      "statsmodels.tsa.AR has been deprecated in favor of statsmodels.tsa.AutoReg and\n",
      "statsmodels.tsa.SARIMAX.\n",
      "\n",
      "AutoReg adds the ability to specify exogenous variables, include time trends,\n",
      "and add seasonal dummies. The AutoReg API differs from AR since the model is\n",
      "treated as immutable, and so the entire specification including the lag\n",
      "length must be specified when creating the model. This change is too\n",
      "substantial to incorporate into the existing AR api. The function\n",
      "ar_select_order performs lag length selection for AutoReg models.\n",
      "\n",
      "AutoReg only estimates parameters using conditional MLE (OLS). Use SARIMAX to\n",
      "estimate ARX and related models using full MLE via the Kalman Filter.\n",
      "\n",
      "To silence this warning and continue using AR until it is removed, use:\n",
      "\n",
      "import warnings\n",
      "warnings.filterwarnings('ignore', 'statsmodels.tsa.ar_model.AR', FutureWarning)\n",
      "\n",
      "  warnings.warn(AR_DEPRECATION_WARN, FutureWarning)\n",
      "/home/pablo/.local/lib/python3.8/site-packages/statsmodels/tsa/base/tsa_model.py:216: ValueWarning: A date index has been provided, but it has no associated frequency information and so will be ignored when e.g. forecasting.\n",
      "  warnings.warn('A date index has been provided, but it has no'\n",
      "/home/pablo/.local/lib/python3.8/site-packages/statsmodels/tsa/base/tsa_model.py:580: ValueWarning: No supported index is available. Prediction results will be given with an integer index beginning at `start`.\n",
      "  warnings.warn('No supported index is available.'\n",
      "/home/pablo/.local/lib/python3.8/site-packages/statsmodels/tsa/base/tsa_model.py:216: ValueWarning: A date index has been provided, but it has no associated frequency information and so will be ignored when e.g. forecasting.\n",
      "  warnings.warn('A date index has been provided, but it has no'\n",
      "/home/pablo/.local/lib/python3.8/site-packages/statsmodels/tsa/base/tsa_model.py:580: ValueWarning: No supported index is available. Prediction results will be given with an integer index beginning at `start`.\n",
      "  warnings.warn('No supported index is available.'\n"
     ]
    },
    {
     "data": {
      "text/html": [
       "<div>\n",
       "<style scoped>\n",
       "    .dataframe tbody tr th:only-of-type {\n",
       "        vertical-align: middle;\n",
       "    }\n",
       "\n",
       "    .dataframe tbody tr th {\n",
       "        vertical-align: top;\n",
       "    }\n",
       "\n",
       "    .dataframe thead th {\n",
       "        text-align: right;\n",
       "    }\n",
       "</style>\n",
       "<table border=\"1\" class=\"dataframe\">\n",
       "  <thead>\n",
       "    <tr style=\"text-align: right;\">\n",
       "      <th></th>\n",
       "      <th>GT</th>\n",
       "      <th>X</th>\n",
       "      <th>Xf</th>\n",
       "      <th>diff_X</th>\n",
       "      <th>diff_Xf</th>\n",
       "    </tr>\n",
       "    <tr>\n",
       "      <th>DATE_TIME</th>\n",
       "      <th></th>\n",
       "      <th></th>\n",
       "      <th></th>\n",
       "      <th></th>\n",
       "      <th></th>\n",
       "    </tr>\n",
       "  </thead>\n",
       "  <tbody>\n",
       "    <tr>\n",
       "      <th>2019-12-02 00:00:00</th>\n",
       "      <td>0.67639</td>\n",
       "      <td>0.675944</td>\n",
       "      <td>0.676341</td>\n",
       "      <td>0.000446</td>\n",
       "      <td>0.000049</td>\n",
       "    </tr>\n",
       "    <tr>\n",
       "      <th>2019-12-02 00:15:00</th>\n",
       "      <td>0.67653</td>\n",
       "      <td>0.675950</td>\n",
       "      <td>0.676350</td>\n",
       "      <td>0.000580</td>\n",
       "      <td>0.000180</td>\n",
       "    </tr>\n",
       "    <tr>\n",
       "      <th>2019-12-02 00:30:00</th>\n",
       "      <td>0.67650</td>\n",
       "      <td>0.675960</td>\n",
       "      <td>0.676363</td>\n",
       "      <td>0.000540</td>\n",
       "      <td>0.000137</td>\n",
       "    </tr>\n",
       "    <tr>\n",
       "      <th>2019-12-02 00:45:00</th>\n",
       "      <td>0.67645</td>\n",
       "      <td>0.675963</td>\n",
       "      <td>0.676379</td>\n",
       "      <td>0.000487</td>\n",
       "      <td>0.000071</td>\n",
       "    </tr>\n",
       "    <tr>\n",
       "      <th>2019-12-02 01:00:00</th>\n",
       "      <td>0.67667</td>\n",
       "      <td>0.675966</td>\n",
       "      <td>0.676400</td>\n",
       "      <td>0.000704</td>\n",
       "      <td>0.000270</td>\n",
       "    </tr>\n",
       "    <tr>\n",
       "      <th>...</th>\n",
       "      <td>...</td>\n",
       "      <td>...</td>\n",
       "      <td>...</td>\n",
       "      <td>...</td>\n",
       "      <td>...</td>\n",
       "    </tr>\n",
       "    <tr>\n",
       "      <th>2019-12-31 19:45:00</th>\n",
       "      <td>0.70238</td>\n",
       "      <td>0.680718</td>\n",
       "      <td>0.694027</td>\n",
       "      <td>0.021662</td>\n",
       "      <td>0.008353</td>\n",
       "    </tr>\n",
       "    <tr>\n",
       "      <th>2019-12-31 20:00:00</th>\n",
       "      <td>0.70230</td>\n",
       "      <td>0.680720</td>\n",
       "      <td>0.694028</td>\n",
       "      <td>0.021580</td>\n",
       "      <td>0.008272</td>\n",
       "    </tr>\n",
       "    <tr>\n",
       "      <th>2019-12-31 20:15:00</th>\n",
       "      <td>0.70219</td>\n",
       "      <td>0.680722</td>\n",
       "      <td>0.694029</td>\n",
       "      <td>0.021468</td>\n",
       "      <td>0.008161</td>\n",
       "    </tr>\n",
       "    <tr>\n",
       "      <th>2019-12-31 20:30:00</th>\n",
       "      <td>0.70200</td>\n",
       "      <td>0.680724</td>\n",
       "      <td>0.694030</td>\n",
       "      <td>0.021276</td>\n",
       "      <td>0.007970</td>\n",
       "    </tr>\n",
       "    <tr>\n",
       "      <th>2019-12-31 20:45:00</th>\n",
       "      <td>0.70155</td>\n",
       "      <td>0.680726</td>\n",
       "      <td>0.694032</td>\n",
       "      <td>0.020824</td>\n",
       "      <td>0.007518</td>\n",
       "    </tr>\n",
       "  </tbody>\n",
       "</table>\n",
       "<p>1968 rows × 5 columns</p>\n",
       "</div>"
      ],
      "text/plain": [
       "                          GT         X        Xf    diff_X   diff_Xf\n",
       "DATE_TIME                                                           \n",
       "2019-12-02 00:00:00  0.67639  0.675944  0.676341  0.000446  0.000049\n",
       "2019-12-02 00:15:00  0.67653  0.675950  0.676350  0.000580  0.000180\n",
       "2019-12-02 00:30:00  0.67650  0.675960  0.676363  0.000540  0.000137\n",
       "2019-12-02 00:45:00  0.67645  0.675963  0.676379  0.000487  0.000071\n",
       "2019-12-02 01:00:00  0.67667  0.675966  0.676400  0.000704  0.000270\n",
       "...                      ...       ...       ...       ...       ...\n",
       "2019-12-31 19:45:00  0.70238  0.680718  0.694027  0.021662  0.008353\n",
       "2019-12-31 20:00:00  0.70230  0.680720  0.694028  0.021580  0.008272\n",
       "2019-12-31 20:15:00  0.70219  0.680722  0.694029  0.021468  0.008161\n",
       "2019-12-31 20:30:00  0.70200  0.680724  0.694030  0.021276  0.007970\n",
       "2019-12-31 20:45:00  0.70155  0.680726  0.694032  0.020824  0.007518\n",
       "\n",
       "[1968 rows x 5 columns]"
      ]
     },
     "execution_count": 17,
     "metadata": {},
     "output_type": "execute_result"
    }
   ],
   "source": [
    "AU_predictions_AR = modelling_AR(au_g, 'AUD-USD')\n",
    "AU_predictions_AR"
   ]
  },
  {
   "cell_type": "code",
   "execution_count": 18,
   "metadata": {},
   "outputs": [
    {
     "name": "stdout",
     "output_type": "stream",
     "text": [
      "AR Model X ->  MSE=0.0001111009846518952  RMSE=0.010540445182813447  MAPE=1.3715546860492003  MAE=0.00947319382991533\n",
      "AR Model Xf ->  MSE=1.741659014777564e-05  RMSE=0.004173318840895773  MAPE=0.5116864664692757  MAE=0.003521097994548128\n"
     ]
    }
   ],
   "source": [
    "mse, rmse, mape, mae = get_metrics(AU_predictions_AR, au_g, 'AUD-USD')"
   ]
  },
  {
   "cell_type": "code",
   "execution_count": 19,
   "metadata": {},
   "outputs": [
    {
     "name": "stderr",
     "output_type": "stream",
     "text": [
      "/home/pablo/.local/lib/python3.8/site-packages/statsmodels/tsa/base/tsa_model.py:216: ValueWarning: A date index has been provided, but it has no associated frequency information and so will be ignored when e.g. forecasting.\n",
      "  warnings.warn('A date index has been provided, but it has no'\n"
     ]
    },
    {
     "name": "stdout",
     "output_type": "stream",
     "text": [
      "Entrenando con los datos desde la serie X\n"
     ]
    },
    {
     "name": "stderr",
     "output_type": "stream",
     "text": [
      "/home/pablo/.local/lib/python3.8/site-packages/statsmodels/tsa/base/tsa_model.py:580: ValueWarning: No supported index is available. Prediction results will be given with an integer index beginning at `start`.\n",
      "  warnings.warn('No supported index is available.'\n",
      "/home/pablo/.local/lib/python3.8/site-packages/statsmodels/tsa/base/tsa_model.py:216: ValueWarning: A date index has been provided, but it has no associated frequency information and so will be ignored when e.g. forecasting.\n",
      "  warnings.warn('A date index has been provided, but it has no'\n"
     ]
    },
    {
     "name": "stdout",
     "output_type": "stream",
     "text": [
      "Entrenando con los datos desde la serie Xf\n"
     ]
    },
    {
     "name": "stderr",
     "output_type": "stream",
     "text": [
      "/home/pablo/.local/lib/python3.8/site-packages/statsmodels/tsa/base/tsa_model.py:580: ValueWarning: No supported index is available. Prediction results will be given with an integer index beginning at `start`.\n",
      "  warnings.warn('No supported index is available.'\n"
     ]
    },
    {
     "data": {
      "text/html": [
       "<div>\n",
       "<style scoped>\n",
       "    .dataframe tbody tr th:only-of-type {\n",
       "        vertical-align: middle;\n",
       "    }\n",
       "\n",
       "    .dataframe tbody tr th {\n",
       "        vertical-align: top;\n",
       "    }\n",
       "\n",
       "    .dataframe thead th {\n",
       "        text-align: right;\n",
       "    }\n",
       "</style>\n",
       "<table border=\"1\" class=\"dataframe\">\n",
       "  <thead>\n",
       "    <tr style=\"text-align: right;\">\n",
       "      <th></th>\n",
       "      <th>GT</th>\n",
       "      <th>X</th>\n",
       "      <th>Xf</th>\n",
       "      <th>diff_X</th>\n",
       "      <th>diff_Xf</th>\n",
       "    </tr>\n",
       "    <tr>\n",
       "      <th>DATE_TIME</th>\n",
       "      <th></th>\n",
       "      <th></th>\n",
       "      <th></th>\n",
       "      <th></th>\n",
       "      <th></th>\n",
       "    </tr>\n",
       "  </thead>\n",
       "  <tbody>\n",
       "    <tr>\n",
       "      <th>2019-12-02 00:00:00</th>\n",
       "      <td>0.67639</td>\n",
       "      <td>0.686131</td>\n",
       "      <td>0.686084</td>\n",
       "      <td>-0.009741</td>\n",
       "      <td>-0.009694</td>\n",
       "    </tr>\n",
       "    <tr>\n",
       "      <th>2019-12-02 00:15:00</th>\n",
       "      <td>0.67653</td>\n",
       "      <td>0.695830</td>\n",
       "      <td>0.695830</td>\n",
       "      <td>-0.019300</td>\n",
       "      <td>-0.019300</td>\n",
       "    </tr>\n",
       "    <tr>\n",
       "      <th>2019-12-02 00:30:00</th>\n",
       "      <td>0.67650</td>\n",
       "      <td>0.695830</td>\n",
       "      <td>0.695830</td>\n",
       "      <td>-0.019330</td>\n",
       "      <td>-0.019330</td>\n",
       "    </tr>\n",
       "    <tr>\n",
       "      <th>2019-12-02 00:45:00</th>\n",
       "      <td>0.67645</td>\n",
       "      <td>0.695830</td>\n",
       "      <td>0.695830</td>\n",
       "      <td>-0.019380</td>\n",
       "      <td>-0.019380</td>\n",
       "    </tr>\n",
       "    <tr>\n",
       "      <th>2019-12-02 01:00:00</th>\n",
       "      <td>0.67667</td>\n",
       "      <td>0.695830</td>\n",
       "      <td>0.695830</td>\n",
       "      <td>-0.019160</td>\n",
       "      <td>-0.019160</td>\n",
       "    </tr>\n",
       "    <tr>\n",
       "      <th>...</th>\n",
       "      <td>...</td>\n",
       "      <td>...</td>\n",
       "      <td>...</td>\n",
       "      <td>...</td>\n",
       "      <td>...</td>\n",
       "    </tr>\n",
       "    <tr>\n",
       "      <th>2019-12-31 19:45:00</th>\n",
       "      <td>0.70238</td>\n",
       "      <td>0.695830</td>\n",
       "      <td>0.695830</td>\n",
       "      <td>0.006550</td>\n",
       "      <td>0.006550</td>\n",
       "    </tr>\n",
       "    <tr>\n",
       "      <th>2019-12-31 20:00:00</th>\n",
       "      <td>0.70230</td>\n",
       "      <td>0.695830</td>\n",
       "      <td>0.695830</td>\n",
       "      <td>0.006470</td>\n",
       "      <td>0.006470</td>\n",
       "    </tr>\n",
       "    <tr>\n",
       "      <th>2019-12-31 20:15:00</th>\n",
       "      <td>0.70219</td>\n",
       "      <td>0.695830</td>\n",
       "      <td>0.695830</td>\n",
       "      <td>0.006360</td>\n",
       "      <td>0.006360</td>\n",
       "    </tr>\n",
       "    <tr>\n",
       "      <th>2019-12-31 20:30:00</th>\n",
       "      <td>0.70200</td>\n",
       "      <td>0.695830</td>\n",
       "      <td>0.695830</td>\n",
       "      <td>0.006170</td>\n",
       "      <td>0.006170</td>\n",
       "    </tr>\n",
       "    <tr>\n",
       "      <th>2019-12-31 20:45:00</th>\n",
       "      <td>0.70155</td>\n",
       "      <td>0.695830</td>\n",
       "      <td>0.695830</td>\n",
       "      <td>0.005720</td>\n",
       "      <td>0.005720</td>\n",
       "    </tr>\n",
       "  </tbody>\n",
       "</table>\n",
       "<p>1968 rows × 5 columns</p>\n",
       "</div>"
      ],
      "text/plain": [
       "                          GT         X        Xf    diff_X   diff_Xf\n",
       "DATE_TIME                                                           \n",
       "2019-12-02 00:00:00  0.67639  0.686131  0.686084 -0.009741 -0.009694\n",
       "2019-12-02 00:15:00  0.67653  0.695830  0.695830 -0.019300 -0.019300\n",
       "2019-12-02 00:30:00  0.67650  0.695830  0.695830 -0.019330 -0.019330\n",
       "2019-12-02 00:45:00  0.67645  0.695830  0.695830 -0.019380 -0.019380\n",
       "2019-12-02 01:00:00  0.67667  0.695830  0.695830 -0.019160 -0.019160\n",
       "...                      ...       ...       ...       ...       ...\n",
       "2019-12-31 19:45:00  0.70238  0.695830  0.695830  0.006550  0.006550\n",
       "2019-12-31 20:00:00  0.70230  0.695830  0.695830  0.006470  0.006470\n",
       "2019-12-31 20:15:00  0.70219  0.695830  0.695830  0.006360  0.006360\n",
       "2019-12-31 20:30:00  0.70200  0.695830  0.695830  0.006170  0.006170\n",
       "2019-12-31 20:45:00  0.70155  0.695830  0.695830  0.005720  0.005720\n",
       "\n",
       "[1968 rows x 5 columns]"
      ]
     },
     "execution_count": 19,
     "metadata": {},
     "output_type": "execute_result"
    }
   ],
   "source": [
    "AU_predictions_ARIMA = modelling_ARIMA(au_g, 'AUD-USD')\n",
    "AU_predictions_ARIMA"
   ]
  },
  {
   "cell_type": "code",
   "execution_count": 20,
   "metadata": {},
   "outputs": [
    {
     "name": "stdout",
     "output_type": "stream",
     "text": [
      "AR Model X ->  MSE=0.0001111009846518952  RMSE=0.010540445182813447  MAPE=1.3715546860492003  MAE=0.00947319382991533\n",
      "AR Model Xf ->  MSE=1.741659014777564e-05  RMSE=0.004173318840895773  MAPE=0.5116864664692757  MAE=0.003521097994548128\n"
     ]
    }
   ],
   "source": [
    "mse, rmse, mape, mae = get_metrics(AU_predictions_AR, au_g, 'AUD-USD')"
   ]
  },
  {
   "cell_type": "code",
   "execution_count": 21,
   "metadata": {},
   "outputs": [],
   "source": [
    "# LSTM"
   ]
  },
  {
   "cell_type": "code",
   "execution_count": 22,
   "metadata": {},
   "outputs": [
    {
     "data": {
      "text/html": [
       "<div>\n",
       "<style scoped>\n",
       "    .dataframe tbody tr th:only-of-type {\n",
       "        vertical-align: middle;\n",
       "    }\n",
       "\n",
       "    .dataframe tbody tr th {\n",
       "        vertical-align: top;\n",
       "    }\n",
       "\n",
       "    .dataframe thead th {\n",
       "        text-align: right;\n",
       "    }\n",
       "</style>\n",
       "<table border=\"1\" class=\"dataframe\">\n",
       "  <thead>\n",
       "    <tr style=\"text-align: right;\">\n",
       "      <th></th>\n",
       "      <th>high_AUD-USD</th>\n",
       "      <th>low_AUD-USD</th>\n",
       "      <th>open_AUD-USD</th>\n",
       "      <th>close_AUD-USD</th>\n",
       "    </tr>\n",
       "    <tr>\n",
       "      <th>time</th>\n",
       "      <th></th>\n",
       "      <th></th>\n",
       "      <th></th>\n",
       "      <th></th>\n",
       "    </tr>\n",
       "  </thead>\n",
       "  <tbody>\n",
       "    <tr>\n",
       "      <th>2019-01-02 06:00:00</th>\n",
       "      <td>0.70115</td>\n",
       "      <td>0.70035</td>\n",
       "      <td>0.70106</td>\n",
       "      <td>0.70076</td>\n",
       "    </tr>\n",
       "    <tr>\n",
       "      <th>2019-01-02 06:15:00</th>\n",
       "      <td>0.70200</td>\n",
       "      <td>0.70077</td>\n",
       "      <td>0.70077</td>\n",
       "      <td>0.70199</td>\n",
       "    </tr>\n",
       "    <tr>\n",
       "      <th>2019-01-02 06:30:00</th>\n",
       "      <td>0.70206</td>\n",
       "      <td>0.70159</td>\n",
       "      <td>0.70199</td>\n",
       "      <td>0.70182</td>\n",
       "    </tr>\n",
       "    <tr>\n",
       "      <th>2019-01-02 06:45:00</th>\n",
       "      <td>0.70194</td>\n",
       "      <td>0.70163</td>\n",
       "      <td>0.70182</td>\n",
       "      <td>0.70189</td>\n",
       "    </tr>\n",
       "    <tr>\n",
       "      <th>2019-01-02 07:00:00</th>\n",
       "      <td>0.70202</td>\n",
       "      <td>0.70175</td>\n",
       "      <td>0.70187</td>\n",
       "      <td>0.70193</td>\n",
       "    </tr>\n",
       "    <tr>\n",
       "      <th>...</th>\n",
       "      <td>...</td>\n",
       "      <td>...</td>\n",
       "      <td>...</td>\n",
       "      <td>...</td>\n",
       "    </tr>\n",
       "    <tr>\n",
       "      <th>2019-12-31 19:45:00</th>\n",
       "      <td>0.70284</td>\n",
       "      <td>0.70235</td>\n",
       "      <td>0.70279</td>\n",
       "      <td>0.70238</td>\n",
       "    </tr>\n",
       "    <tr>\n",
       "      <th>2019-12-31 20:00:00</th>\n",
       "      <td>0.70247</td>\n",
       "      <td>0.70228</td>\n",
       "      <td>0.70238</td>\n",
       "      <td>0.70230</td>\n",
       "    </tr>\n",
       "    <tr>\n",
       "      <th>2019-12-31 20:15:00</th>\n",
       "      <td>0.70230</td>\n",
       "      <td>0.70201</td>\n",
       "      <td>0.70229</td>\n",
       "      <td>0.70219</td>\n",
       "    </tr>\n",
       "    <tr>\n",
       "      <th>2019-12-31 20:30:00</th>\n",
       "      <td>0.70220</td>\n",
       "      <td>0.70181</td>\n",
       "      <td>0.70219</td>\n",
       "      <td>0.70200</td>\n",
       "    </tr>\n",
       "    <tr>\n",
       "      <th>2019-12-31 20:45:00</th>\n",
       "      <td>0.70200</td>\n",
       "      <td>0.70155</td>\n",
       "      <td>0.70200</td>\n",
       "      <td>0.70155</td>\n",
       "    </tr>\n",
       "  </tbody>\n",
       "</table>\n",
       "<p>24776 rows × 4 columns</p>\n",
       "</div>"
      ],
      "text/plain": [
       "                     high_AUD-USD  low_AUD-USD  open_AUD-USD  close_AUD-USD\n",
       "time                                                                       \n",
       "2019-01-02 06:00:00       0.70115      0.70035       0.70106        0.70076\n",
       "2019-01-02 06:15:00       0.70200      0.70077       0.70077        0.70199\n",
       "2019-01-02 06:30:00       0.70206      0.70159       0.70199        0.70182\n",
       "2019-01-02 06:45:00       0.70194      0.70163       0.70182        0.70189\n",
       "2019-01-02 07:00:00       0.70202      0.70175       0.70187        0.70193\n",
       "...                           ...          ...           ...            ...\n",
       "2019-12-31 19:45:00       0.70284      0.70235       0.70279        0.70238\n",
       "2019-12-31 20:00:00       0.70247      0.70228       0.70238        0.70230\n",
       "2019-12-31 20:15:00       0.70230      0.70201       0.70229        0.70219\n",
       "2019-12-31 20:30:00       0.70220      0.70181       0.70219        0.70200\n",
       "2019-12-31 20:45:00       0.70200      0.70155       0.70200        0.70155\n",
       "\n",
       "[24776 rows x 4 columns]"
      ]
     },
     "execution_count": 22,
     "metadata": {},
     "output_type": "execute_result"
    }
   ],
   "source": [
    "audusd = pd.read_csv('./Input/AUDUSD-2000-2020-15m.csv')\n",
    "audusd_LSTM = red_LSTM(audusd, 'AUD-USD', '2019-12-01 23:45:00','2020-01-01 00:00:00')\n",
    "audusd_LSTM"
   ]
  },
  {
   "cell_type": "code",
   "execution_count": 23,
   "metadata": {},
   "outputs": [
    {
     "name": "stdout",
     "output_type": "stream",
     "text": [
      "Epoch 1/4\n",
      "22293/22293 [==============================] - 84s 4ms/step - loss: 0.0035 - mae: 0.0349\n",
      "Epoch 2/4\n",
      "22293/22293 [==============================] - 81s 4ms/step - loss: 0.0015 - mae: 0.0276\n",
      "Epoch 3/4\n",
      "22293/22293 [==============================] - 83s 4ms/step - loss: 0.0015 - mae: 0.0271\n",
      "Epoch 4/4\n",
      "22293/22293 [==============================] - 80s 4ms/step - loss: 0.0015 - mae: 0.0271\n"
     ]
    }
   ],
   "source": [
    "model_LSTM, model, X_test, y_test, y_scaler = modelling_LSTM(audusd_LSTM, 'AUD-USD',4)"
   ]
  },
  {
   "cell_type": "code",
   "execution_count": 24,
   "metadata": {},
   "outputs": [
    {
     "data": {
      "text/html": [
       "<div>\n",
       "<style scoped>\n",
       "    .dataframe tbody tr th:only-of-type {\n",
       "        vertical-align: middle;\n",
       "    }\n",
       "\n",
       "    .dataframe tbody tr th {\n",
       "        vertical-align: top;\n",
       "    }\n",
       "\n",
       "    .dataframe thead th {\n",
       "        text-align: right;\n",
       "    }\n",
       "</style>\n",
       "<table border=\"1\" class=\"dataframe\">\n",
       "  <thead>\n",
       "    <tr style=\"text-align: right;\">\n",
       "      <th></th>\n",
       "      <th>predicted</th>\n",
       "      <th>GT</th>\n",
       "    </tr>\n",
       "  </thead>\n",
       "  <tbody>\n",
       "    <tr>\n",
       "      <th>0</th>\n",
       "      <td>0.680306</td>\n",
       "      <td>0.67888</td>\n",
       "    </tr>\n",
       "    <tr>\n",
       "      <th>1</th>\n",
       "      <td>0.680379</td>\n",
       "      <td>0.67883</td>\n",
       "    </tr>\n",
       "    <tr>\n",
       "      <th>2</th>\n",
       "      <td>0.680424</td>\n",
       "      <td>0.67932</td>\n",
       "    </tr>\n",
       "    <tr>\n",
       "      <th>3</th>\n",
       "      <td>0.680349</td>\n",
       "      <td>0.67914</td>\n",
       "    </tr>\n",
       "    <tr>\n",
       "      <th>4</th>\n",
       "      <td>0.680190</td>\n",
       "      <td>0.67911</td>\n",
       "    </tr>\n",
       "    <tr>\n",
       "      <th>...</th>\n",
       "      <td>...</td>\n",
       "      <td>...</td>\n",
       "    </tr>\n",
       "    <tr>\n",
       "      <th>2473</th>\n",
       "      <td>0.703145</td>\n",
       "      <td>0.70315</td>\n",
       "    </tr>\n",
       "    <tr>\n",
       "      <th>2474</th>\n",
       "      <td>0.703138</td>\n",
       "      <td>0.70292</td>\n",
       "    </tr>\n",
       "    <tr>\n",
       "      <th>2475</th>\n",
       "      <td>0.703017</td>\n",
       "      <td>0.70252</td>\n",
       "    </tr>\n",
       "    <tr>\n",
       "      <th>2476</th>\n",
       "      <td>0.702918</td>\n",
       "      <td>0.70266</td>\n",
       "    </tr>\n",
       "    <tr>\n",
       "      <th>2477</th>\n",
       "      <td>0.702865</td>\n",
       "      <td>0.70280</td>\n",
       "    </tr>\n",
       "  </tbody>\n",
       "</table>\n",
       "<p>2478 rows × 2 columns</p>\n",
       "</div>"
      ],
      "text/plain": [
       "      predicted       GT\n",
       "0      0.680306  0.67888\n",
       "1      0.680379  0.67883\n",
       "2      0.680424  0.67932\n",
       "3      0.680349  0.67914\n",
       "4      0.680190  0.67911\n",
       "...         ...      ...\n",
       "2473   0.703145  0.70315\n",
       "2474   0.703138  0.70292\n",
       "2475   0.703017  0.70252\n",
       "2476   0.702918  0.70266\n",
       "2477   0.702865  0.70280\n",
       "\n",
       "[2478 rows x 2 columns]"
      ]
     },
     "execution_count": 24,
     "metadata": {},
     "output_type": "execute_result"
    }
   ],
   "source": [
    "audusd_predicts = get_pred_LSTM(model_LSTM, model, X_test, y_test, y_scaler)\n",
    "audusd_predicts"
   ]
  },
  {
   "cell_type": "code",
   "execution_count": 25,
   "metadata": {},
   "outputs": [
    {
     "name": "stdout",
     "output_type": "stream",
     "text": [
      "MSE :  1.33865493462109e-06\n",
      "MAE :  0.0011187356037103862\n"
     ]
    }
   ],
   "source": [
    "print(\"MSE : \", mean_squared_error(audusd_predicts['predicted'].values, audusd_predicts['GT'].values))\n",
    "print(\"MAE : \", mean_absolute_error(audusd_predicts['predicted'].values, audusd_predicts['GT'].values))"
   ]
  },
  {
   "cell_type": "markdown",
   "metadata": {},
   "source": [
    "# EUR-CHF"
   ]
  },
  {
   "cell_type": "code",
   "execution_count": 26,
   "metadata": {},
   "outputs": [],
   "source": [
    "ec = pd.read_csv('./Input/EURCHF-2000-2020-15m.csv')\n",
    "ec_ = get_sample(ec,'2018-12-31 23:45:00','2020-01-01 00:00:00')\n",
    "ec_g = renaming(ec_, 'EUR-CHF')"
   ]
  },
  {
   "cell_type": "code",
   "execution_count": 27,
   "metadata": {},
   "outputs": [
    {
     "name": "stdout",
     "output_type": "stream",
     "text": [
      "Entrenando con los datos desde la serie X\n",
      "Entrenando con los datos desde la serie Xf\n"
     ]
    },
    {
     "name": "stderr",
     "output_type": "stream",
     "text": [
      "/home/pablo/.local/lib/python3.8/site-packages/statsmodels/tsa/ar_model.py:691: FutureWarning: \n",
      "statsmodels.tsa.AR has been deprecated in favor of statsmodels.tsa.AutoReg and\n",
      "statsmodels.tsa.SARIMAX.\n",
      "\n",
      "AutoReg adds the ability to specify exogenous variables, include time trends,\n",
      "and add seasonal dummies. The AutoReg API differs from AR since the model is\n",
      "treated as immutable, and so the entire specification including the lag\n",
      "length must be specified when creating the model. This change is too\n",
      "substantial to incorporate into the existing AR api. The function\n",
      "ar_select_order performs lag length selection for AutoReg models.\n",
      "\n",
      "AutoReg only estimates parameters using conditional MLE (OLS). Use SARIMAX to\n",
      "estimate ARX and related models using full MLE via the Kalman Filter.\n",
      "\n",
      "To silence this warning and continue using AR until it is removed, use:\n",
      "\n",
      "import warnings\n",
      "warnings.filterwarnings('ignore', 'statsmodels.tsa.ar_model.AR', FutureWarning)\n",
      "\n",
      "  warnings.warn(AR_DEPRECATION_WARN, FutureWarning)\n",
      "/home/pablo/.local/lib/python3.8/site-packages/statsmodels/tsa/base/tsa_model.py:216: ValueWarning: A date index has been provided, but it has no associated frequency information and so will be ignored when e.g. forecasting.\n",
      "  warnings.warn('A date index has been provided, but it has no'\n",
      "/home/pablo/.local/lib/python3.8/site-packages/statsmodels/tsa/base/tsa_model.py:580: ValueWarning: No supported index is available. Prediction results will be given with an integer index beginning at `start`.\n",
      "  warnings.warn('No supported index is available.'\n",
      "/home/pablo/.local/lib/python3.8/site-packages/statsmodels/tsa/base/tsa_model.py:216: ValueWarning: A date index has been provided, but it has no associated frequency information and so will be ignored when e.g. forecasting.\n",
      "  warnings.warn('A date index has been provided, but it has no'\n",
      "/home/pablo/.local/lib/python3.8/site-packages/statsmodels/tsa/base/tsa_model.py:580: ValueWarning: No supported index is available. Prediction results will be given with an integer index beginning at `start`.\n",
      "  warnings.warn('No supported index is available.'\n"
     ]
    }
   ],
   "source": [
    "EC_predictions_AR = modelling_AR(ec_g, 'EUR-CHF')"
   ]
  },
  {
   "cell_type": "code",
   "execution_count": 28,
   "metadata": {},
   "outputs": [
    {
     "name": "stdout",
     "output_type": "stream",
     "text": [
      "AR Model X ->  MSE=0.00011632363164651148  RMSE=0.010785343371748137  MAPE=0.9022130895212863  MAE=0.009840422448199734\n",
      "AR Model Xf ->  MSE=0.00030440562070237827  RMSE=0.017447223868065034  MAPE=1.4930270369196879  MAE=0.016289152618739228\n"
     ]
    }
   ],
   "source": [
    "mse, rmse, mape, mae = get_metrics(EC_predictions_AR, ec_g, 'EUR-CHF')"
   ]
  },
  {
   "cell_type": "code",
   "execution_count": 29,
   "metadata": {},
   "outputs": [],
   "source": [
    "#The computed initial MA coefficients are not invertible\n",
    "#You should induce invertibility, choose a different model order, or you can\n",
    "#pass your own start_params.\n",
    "#EC_predictions_ARIMA = modelling_ARIMA(ec_g, 'EUR-CHF')"
   ]
  },
  {
   "cell_type": "code",
   "execution_count": 30,
   "metadata": {},
   "outputs": [],
   "source": [
    "#mse, rmse, mape, mae = get_metrics(EC_predictions_ARIMA, ec_g, 'EUR-CHF')"
   ]
  },
  {
   "cell_type": "code",
   "execution_count": 31,
   "metadata": {},
   "outputs": [],
   "source": [
    "# LSTM"
   ]
  },
  {
   "cell_type": "code",
   "execution_count": 32,
   "metadata": {},
   "outputs": [],
   "source": [
    "eurchf = pd.read_csv('./Input/EURCHF-2000-2020-15m.csv')\n",
    "eurchf_LSTM = red_LSTM(eurchf, 'EUR-CHF', '2019-12-01 23:45:00','2020-01-01 00:00:00')"
   ]
  },
  {
   "cell_type": "code",
   "execution_count": 33,
   "metadata": {},
   "outputs": [
    {
     "name": "stdout",
     "output_type": "stream",
     "text": [
      "Epoch 1/4\n",
      "22293/22293 [==============================] - 85s 4ms/step - loss: 0.0046 - mae: 0.0411\n",
      "Epoch 2/4\n",
      "22293/22293 [==============================] - 82s 4ms/step - loss: 0.0020 - mae: 0.0327\n",
      "Epoch 3/4\n",
      "22293/22293 [==============================] - 85s 4ms/step - loss: 0.0019 - mae: 0.0324\n",
      "Epoch 4/4\n",
      "22293/22293 [==============================] - 85s 4ms/step - loss: 0.0019 - mae: 0.0324\n"
     ]
    }
   ],
   "source": [
    "model_LSTM, model, X_test, y_test, y_scaler = modelling_LSTM(eurchf_LSTM, 'EUR-CHF',4)"
   ]
  },
  {
   "cell_type": "code",
   "execution_count": 34,
   "metadata": {},
   "outputs": [
    {
     "data": {
      "text/html": [
       "<div>\n",
       "<style scoped>\n",
       "    .dataframe tbody tr th:only-of-type {\n",
       "        vertical-align: middle;\n",
       "    }\n",
       "\n",
       "    .dataframe tbody tr th {\n",
       "        vertical-align: top;\n",
       "    }\n",
       "\n",
       "    .dataframe thead th {\n",
       "        text-align: right;\n",
       "    }\n",
       "</style>\n",
       "<table border=\"1\" class=\"dataframe\">\n",
       "  <thead>\n",
       "    <tr style=\"text-align: right;\">\n",
       "      <th></th>\n",
       "      <th>predicted</th>\n",
       "      <th>GT</th>\n",
       "    </tr>\n",
       "  </thead>\n",
       "  <tbody>\n",
       "    <tr>\n",
       "      <th>0</th>\n",
       "      <td>1.100305</td>\n",
       "      <td>1.09905</td>\n",
       "    </tr>\n",
       "    <tr>\n",
       "      <th>1</th>\n",
       "      <td>1.100440</td>\n",
       "      <td>1.09950</td>\n",
       "    </tr>\n",
       "    <tr>\n",
       "      <th>2</th>\n",
       "      <td>1.100582</td>\n",
       "      <td>1.09963</td>\n",
       "    </tr>\n",
       "    <tr>\n",
       "      <th>3</th>\n",
       "      <td>1.100642</td>\n",
       "      <td>1.09983</td>\n",
       "    </tr>\n",
       "    <tr>\n",
       "      <th>4</th>\n",
       "      <td>1.100646</td>\n",
       "      <td>1.09991</td>\n",
       "    </tr>\n",
       "    <tr>\n",
       "      <th>...</th>\n",
       "      <td>...</td>\n",
       "      <td>...</td>\n",
       "    </tr>\n",
       "    <tr>\n",
       "      <th>2473</th>\n",
       "      <td>1.087024</td>\n",
       "      <td>1.08700</td>\n",
       "    </tr>\n",
       "    <tr>\n",
       "      <th>2474</th>\n",
       "      <td>1.086646</td>\n",
       "      <td>1.08665</td>\n",
       "    </tr>\n",
       "    <tr>\n",
       "      <th>2475</th>\n",
       "      <td>1.086064</td>\n",
       "      <td>1.08626</td>\n",
       "    </tr>\n",
       "    <tr>\n",
       "      <th>2476</th>\n",
       "      <td>1.085449</td>\n",
       "      <td>1.08639</td>\n",
       "    </tr>\n",
       "    <tr>\n",
       "      <th>2477</th>\n",
       "      <td>1.084853</td>\n",
       "      <td>1.08598</td>\n",
       "    </tr>\n",
       "  </tbody>\n",
       "</table>\n",
       "<p>2478 rows × 2 columns</p>\n",
       "</div>"
      ],
      "text/plain": [
       "      predicted       GT\n",
       "0      1.100305  1.09905\n",
       "1      1.100440  1.09950\n",
       "2      1.100582  1.09963\n",
       "3      1.100642  1.09983\n",
       "4      1.100646  1.09991\n",
       "...         ...      ...\n",
       "2473   1.087024  1.08700\n",
       "2474   1.086646  1.08665\n",
       "2475   1.086064  1.08626\n",
       "2476   1.085449  1.08639\n",
       "2477   1.084853  1.08598\n",
       "\n",
       "[2478 rows x 2 columns]"
      ]
     },
     "execution_count": 34,
     "metadata": {},
     "output_type": "execute_result"
    }
   ],
   "source": [
    "eurchf_predicts = get_pred_LSTM(model_LSTM, model, X_test, y_test, y_scaler)\n",
    "eurchf_predicts"
   ]
  },
  {
   "cell_type": "code",
   "execution_count": 35,
   "metadata": {},
   "outputs": [
    {
     "name": "stdout",
     "output_type": "stream",
     "text": [
      "MSE :  1.5523767718257138e-06\n",
      "MAE :  0.0011856212391520159\n"
     ]
    }
   ],
   "source": [
    "print(\"MSE : \", mean_squared_error(eurchf_predicts['predicted'].values, eurchf_predicts['GT'].values))\n",
    "print(\"MAE : \", mean_absolute_error(eurchf_predicts['predicted'].values, eurchf_predicts['GT'].values))"
   ]
  },
  {
   "cell_type": "markdown",
   "metadata": {},
   "source": [
    "# EUR-JPY"
   ]
  },
  {
   "cell_type": "code",
   "execution_count": 36,
   "metadata": {},
   "outputs": [],
   "source": [
    "ej = pd.read_csv('./Input/EURJPY-2000-2020-15m.csv')\n",
    "ej_ = get_sample(ej,'2018-12-31 23:45:00','2020-01-01 00:00:00')\n",
    "ej_g = renaming(ej_, 'EUR-JPY')"
   ]
  },
  {
   "cell_type": "code",
   "execution_count": 37,
   "metadata": {},
   "outputs": [
    {
     "name": "stdout",
     "output_type": "stream",
     "text": [
      "Entrenando con los datos desde la serie X\n",
      "Entrenando con los datos desde la serie Xf\n"
     ]
    },
    {
     "name": "stderr",
     "output_type": "stream",
     "text": [
      "/home/pablo/.local/lib/python3.8/site-packages/statsmodels/tsa/ar_model.py:691: FutureWarning: \n",
      "statsmodels.tsa.AR has been deprecated in favor of statsmodels.tsa.AutoReg and\n",
      "statsmodels.tsa.SARIMAX.\n",
      "\n",
      "AutoReg adds the ability to specify exogenous variables, include time trends,\n",
      "and add seasonal dummies. The AutoReg API differs from AR since the model is\n",
      "treated as immutable, and so the entire specification including the lag\n",
      "length must be specified when creating the model. This change is too\n",
      "substantial to incorporate into the existing AR api. The function\n",
      "ar_select_order performs lag length selection for AutoReg models.\n",
      "\n",
      "AutoReg only estimates parameters using conditional MLE (OLS). Use SARIMAX to\n",
      "estimate ARX and related models using full MLE via the Kalman Filter.\n",
      "\n",
      "To silence this warning and continue using AR until it is removed, use:\n",
      "\n",
      "import warnings\n",
      "warnings.filterwarnings('ignore', 'statsmodels.tsa.ar_model.AR', FutureWarning)\n",
      "\n",
      "  warnings.warn(AR_DEPRECATION_WARN, FutureWarning)\n",
      "/home/pablo/.local/lib/python3.8/site-packages/statsmodels/tsa/base/tsa_model.py:216: ValueWarning: A date index has been provided, but it has no associated frequency information and so will be ignored when e.g. forecasting.\n",
      "  warnings.warn('A date index has been provided, but it has no'\n",
      "/home/pablo/.local/lib/python3.8/site-packages/statsmodels/tsa/base/tsa_model.py:580: ValueWarning: No supported index is available. Prediction results will be given with an integer index beginning at `start`.\n",
      "  warnings.warn('No supported index is available.'\n",
      "/home/pablo/.local/lib/python3.8/site-packages/statsmodels/tsa/base/tsa_model.py:216: ValueWarning: A date index has been provided, but it has no associated frequency information and so will be ignored when e.g. forecasting.\n",
      "  warnings.warn('A date index has been provided, but it has no'\n",
      "/home/pablo/.local/lib/python3.8/site-packages/statsmodels/tsa/base/tsa_model.py:580: ValueWarning: No supported index is available. Prediction results will be given with an integer index beginning at `start`.\n",
      "  warnings.warn('No supported index is available.'\n"
     ]
    }
   ],
   "source": [
    "EJ_predictions_AR = modelling_AR(ej_g, 'EUR-JPY')"
   ]
  },
  {
   "cell_type": "code",
   "execution_count": 38,
   "metadata": {},
   "outputs": [
    {
     "name": "stdout",
     "output_type": "stream",
     "text": [
      "AR Model X ->  MSE=0.8008311112173606  RMSE=0.8948916756889409  MAPE=0.5975325198331028  MAE=0.7272552101574677\n",
      "AR Model Xf ->  MSE=0.5147496953878345  RMSE=0.7174605880380013  MAPE=0.4769771079143303  MAE=0.5765051127688638\n"
     ]
    }
   ],
   "source": [
    "mse, rmse, mape, mae = get_metrics(EJ_predictions_AR, ej_g, 'EUR-JPY')"
   ]
  },
  {
   "cell_type": "code",
   "execution_count": 39,
   "metadata": {},
   "outputs": [
    {
     "name": "stderr",
     "output_type": "stream",
     "text": [
      "/home/pablo/.local/lib/python3.8/site-packages/statsmodels/tsa/base/tsa_model.py:216: ValueWarning: A date index has been provided, but it has no associated frequency information and so will be ignored when e.g. forecasting.\n",
      "  warnings.warn('A date index has been provided, but it has no'\n"
     ]
    },
    {
     "name": "stdout",
     "output_type": "stream",
     "text": [
      "Entrenando con los datos desde la serie X\n"
     ]
    },
    {
     "name": "stderr",
     "output_type": "stream",
     "text": [
      "/home/pablo/.local/lib/python3.8/site-packages/statsmodels/tsa/base/tsa_model.py:580: ValueWarning: No supported index is available. Prediction results will be given with an integer index beginning at `start`.\n",
      "  warnings.warn('No supported index is available.'\n",
      "/home/pablo/.local/lib/python3.8/site-packages/statsmodels/tsa/base/tsa_model.py:216: ValueWarning: A date index has been provided, but it has no associated frequency information and so will be ignored when e.g. forecasting.\n",
      "  warnings.warn('A date index has been provided, but it has no'\n"
     ]
    },
    {
     "name": "stdout",
     "output_type": "stream",
     "text": [
      "Entrenando con los datos desde la serie Xf\n"
     ]
    },
    {
     "name": "stderr",
     "output_type": "stream",
     "text": [
      "/home/pablo/.local/lib/python3.8/site-packages/statsmodels/tsa/base/tsa_model.py:580: ValueWarning: No supported index is available. Prediction results will be given with an integer index beginning at `start`.\n",
      "  warnings.warn('No supported index is available.'\n"
     ]
    }
   ],
   "source": [
    "EJ_predictions_ARIMA = modelling_ARIMA(ej_g, 'EUR-JPY')"
   ]
  },
  {
   "cell_type": "code",
   "execution_count": 40,
   "metadata": {},
   "outputs": [
    {
     "name": "stdout",
     "output_type": "stream",
     "text": [
      "AR Model X ->  MSE=1.238543617903017  RMSE=1.1128987455752732  MAPE=0.7501486840841476  MAE=0.9059054343137486\n",
      "AR Model Xf ->  MSE=1.2365631493203233  RMSE=1.112008610272566  MAPE=0.7487021520115805  MAE=0.9041489252334723\n"
     ]
    }
   ],
   "source": [
    "mse, rmse, mape, mae = get_metrics(EJ_predictions_ARIMA, ej_g, 'EUR-JPY')"
   ]
  },
  {
   "cell_type": "code",
   "execution_count": 41,
   "metadata": {},
   "outputs": [],
   "source": [
    "# LSTM"
   ]
  },
  {
   "cell_type": "code",
   "execution_count": 42,
   "metadata": {},
   "outputs": [],
   "source": [
    "eurjpy = pd.read_csv('./Input/EURJPY-2000-2020-15m.csv')\n",
    "eurjpy_LSTM = red_LSTM(eurjpy, 'EUR-JPY', '2019-12-01 23:45:00','2020-01-01 00:00:00')"
   ]
  },
  {
   "cell_type": "code",
   "execution_count": 43,
   "metadata": {},
   "outputs": [
    {
     "name": "stdout",
     "output_type": "stream",
     "text": [
      "Epoch 1/4\n",
      "22293/22293 [==============================] - 85s 4ms/step - loss: 0.0042 - mae: 0.0376\n",
      "Epoch 2/4\n",
      "22293/22293 [==============================] - 88s 4ms/step - loss: 0.0016 - mae: 0.0282\n",
      "Epoch 3/4\n",
      "22293/22293 [==============================] - 87s 4ms/step - loss: 0.0016 - mae: 0.0280\n",
      "Epoch 4/4\n",
      "22293/22293 [==============================] - 80s 4ms/step - loss: 0.0016 - mae: 0.0277\n"
     ]
    }
   ],
   "source": [
    "model_LSTM, model, X_test, y_test, y_scaler = modelling_LSTM(eurjpy_LSTM, 'EUR-JPY',4)"
   ]
  },
  {
   "cell_type": "code",
   "execution_count": 44,
   "metadata": {},
   "outputs": [
    {
     "data": {
      "text/html": [
       "<div>\n",
       "<style scoped>\n",
       "    .dataframe tbody tr th:only-of-type {\n",
       "        vertical-align: middle;\n",
       "    }\n",
       "\n",
       "    .dataframe tbody tr th {\n",
       "        vertical-align: top;\n",
       "    }\n",
       "\n",
       "    .dataframe thead th {\n",
       "        text-align: right;\n",
       "    }\n",
       "</style>\n",
       "<table border=\"1\" class=\"dataframe\">\n",
       "  <thead>\n",
       "    <tr style=\"text-align: right;\">\n",
       "      <th></th>\n",
       "      <th>predicted</th>\n",
       "      <th>GT</th>\n",
       "    </tr>\n",
       "  </thead>\n",
       "  <tbody>\n",
       "    <tr>\n",
       "      <th>0</th>\n",
       "      <td>120.012670</td>\n",
       "      <td>119.978004</td>\n",
       "    </tr>\n",
       "    <tr>\n",
       "      <th>1</th>\n",
       "      <td>120.030553</td>\n",
       "      <td>120.028004</td>\n",
       "    </tr>\n",
       "    <tr>\n",
       "      <th>2</th>\n",
       "      <td>120.047121</td>\n",
       "      <td>120.086004</td>\n",
       "    </tr>\n",
       "    <tr>\n",
       "      <th>3</th>\n",
       "      <td>120.045506</td>\n",
       "      <td>120.042004</td>\n",
       "    </tr>\n",
       "    <tr>\n",
       "      <th>4</th>\n",
       "      <td>120.036764</td>\n",
       "      <td>120.060004</td>\n",
       "    </tr>\n",
       "    <tr>\n",
       "      <th>...</th>\n",
       "      <td>...</td>\n",
       "      <td>...</td>\n",
       "    </tr>\n",
       "    <tr>\n",
       "      <th>2473</th>\n",
       "      <td>121.904712</td>\n",
       "      <td>122.067005</td>\n",
       "    </tr>\n",
       "    <tr>\n",
       "      <th>2474</th>\n",
       "      <td>121.890908</td>\n",
       "      <td>122.024005</td>\n",
       "    </tr>\n",
       "    <tr>\n",
       "      <th>2475</th>\n",
       "      <td>121.862608</td>\n",
       "      <td>121.959005</td>\n",
       "    </tr>\n",
       "    <tr>\n",
       "      <th>2476</th>\n",
       "      <td>121.850532</td>\n",
       "      <td>121.979005</td>\n",
       "    </tr>\n",
       "    <tr>\n",
       "      <th>2477</th>\n",
       "      <td>121.844137</td>\n",
       "      <td>121.942005</td>\n",
       "    </tr>\n",
       "  </tbody>\n",
       "</table>\n",
       "<p>2478 rows × 2 columns</p>\n",
       "</div>"
      ],
      "text/plain": [
       "       predicted          GT\n",
       "0     120.012670  119.978004\n",
       "1     120.030553  120.028004\n",
       "2     120.047121  120.086004\n",
       "3     120.045506  120.042004\n",
       "4     120.036764  120.060004\n",
       "...          ...         ...\n",
       "2473  121.904712  122.067005\n",
       "2474  121.890908  122.024005\n",
       "2475  121.862608  121.959005\n",
       "2476  121.850532  121.979005\n",
       "2477  121.844137  121.942005\n",
       "\n",
       "[2478 rows x 2 columns]"
      ]
     },
     "execution_count": 44,
     "metadata": {},
     "output_type": "execute_result"
    }
   ],
   "source": [
    "eurjpy_predicts = get_pred_LSTM(model_LSTM, model, X_test, y_test, y_scaler)\n",
    "eurjpy_predicts"
   ]
  },
  {
   "cell_type": "code",
   "execution_count": 45,
   "metadata": {},
   "outputs": [
    {
     "name": "stdout",
     "output_type": "stream",
     "text": [
      "MSE :  0.006453482102691483\n",
      "MAE :  0.06920059000050059\n"
     ]
    }
   ],
   "source": [
    "print(\"MSE : \", mean_squared_error(eurjpy_predicts['predicted'].values, eurjpy_predicts['GT'].values))\n",
    "print(\"MAE : \", mean_absolute_error(eurjpy_predicts['predicted'].values, eurjpy_predicts['GT'].values))"
   ]
  },
  {
   "cell_type": "markdown",
   "metadata": {},
   "source": [
    "# USD-CAD"
   ]
  },
  {
   "cell_type": "code",
   "execution_count": 46,
   "metadata": {},
   "outputs": [],
   "source": [
    "uc = pd.read_csv('./Input/USDCAD-2000-2020-15m.csv')\n",
    "uc_ = get_sample(uc,'2018-12-31 23:45:00','2020-01-01 00:00:00')\n",
    "uc_g = renaming(uc_, 'USD-CAD')"
   ]
  },
  {
   "cell_type": "code",
   "execution_count": 47,
   "metadata": {},
   "outputs": [
    {
     "name": "stdout",
     "output_type": "stream",
     "text": [
      "Entrenando con los datos desde la serie X\n",
      "Entrenando con los datos desde la serie Xf\n"
     ]
    },
    {
     "name": "stderr",
     "output_type": "stream",
     "text": [
      "/home/pablo/.local/lib/python3.8/site-packages/statsmodels/tsa/ar_model.py:691: FutureWarning: \n",
      "statsmodels.tsa.AR has been deprecated in favor of statsmodels.tsa.AutoReg and\n",
      "statsmodels.tsa.SARIMAX.\n",
      "\n",
      "AutoReg adds the ability to specify exogenous variables, include time trends,\n",
      "and add seasonal dummies. The AutoReg API differs from AR since the model is\n",
      "treated as immutable, and so the entire specification including the lag\n",
      "length must be specified when creating the model. This change is too\n",
      "substantial to incorporate into the existing AR api. The function\n",
      "ar_select_order performs lag length selection for AutoReg models.\n",
      "\n",
      "AutoReg only estimates parameters using conditional MLE (OLS). Use SARIMAX to\n",
      "estimate ARX and related models using full MLE via the Kalman Filter.\n",
      "\n",
      "To silence this warning and continue using AR until it is removed, use:\n",
      "\n",
      "import warnings\n",
      "warnings.filterwarnings('ignore', 'statsmodels.tsa.ar_model.AR', FutureWarning)\n",
      "\n",
      "  warnings.warn(AR_DEPRECATION_WARN, FutureWarning)\n",
      "/home/pablo/.local/lib/python3.8/site-packages/statsmodels/tsa/base/tsa_model.py:216: ValueWarning: A date index has been provided, but it has no associated frequency information and so will be ignored when e.g. forecasting.\n",
      "  warnings.warn('A date index has been provided, but it has no'\n",
      "/home/pablo/.local/lib/python3.8/site-packages/statsmodels/tsa/base/tsa_model.py:580: ValueWarning: No supported index is available. Prediction results will be given with an integer index beginning at `start`.\n",
      "  warnings.warn('No supported index is available.'\n",
      "/home/pablo/.local/lib/python3.8/site-packages/statsmodels/tsa/base/tsa_model.py:216: ValueWarning: A date index has been provided, but it has no associated frequency information and so will be ignored when e.g. forecasting.\n",
      "  warnings.warn('A date index has been provided, but it has no'\n",
      "/home/pablo/.local/lib/python3.8/site-packages/statsmodels/tsa/base/tsa_model.py:580: ValueWarning: No supported index is available. Prediction results will be given with an integer index beginning at `start`.\n",
      "  warnings.warn('No supported index is available.'\n"
     ]
    }
   ],
   "source": [
    "UC_predictions_AR = modelling_AR(uc_g, 'USD-CAD')"
   ]
  },
  {
   "cell_type": "code",
   "execution_count": 48,
   "metadata": {},
   "outputs": [
    {
     "name": "stdout",
     "output_type": "stream",
     "text": [
      "AR Model X ->  MSE=0.00012661469834834616  RMSE=0.011252319687439838  MAPE=0.731373565572123  MAE=0.009605509378719162\n",
      "AR Model Xf ->  MSE=0.00015502738279382915  RMSE=0.012450999268887182  MAPE=0.8092399999695971  MAE=0.010627571555471121\n"
     ]
    }
   ],
   "source": [
    "mse, rmse, mape, mae = get_metrics(UC_predictions_AR, uc_g, 'USD-CAD')"
   ]
  },
  {
   "cell_type": "code",
   "execution_count": 49,
   "metadata": {},
   "outputs": [
    {
     "name": "stderr",
     "output_type": "stream",
     "text": [
      "/home/pablo/.local/lib/python3.8/site-packages/statsmodels/tsa/base/tsa_model.py:216: ValueWarning: A date index has been provided, but it has no associated frequency information and so will be ignored when e.g. forecasting.\n",
      "  warnings.warn('A date index has been provided, but it has no'\n"
     ]
    },
    {
     "name": "stdout",
     "output_type": "stream",
     "text": [
      "Entrenando con los datos desde la serie X\n"
     ]
    },
    {
     "name": "stderr",
     "output_type": "stream",
     "text": [
      "/home/pablo/.local/lib/python3.8/site-packages/statsmodels/tsa/base/tsa_model.py:580: ValueWarning: No supported index is available. Prediction results will be given with an integer index beginning at `start`.\n",
      "  warnings.warn('No supported index is available.'\n",
      "/home/pablo/.local/lib/python3.8/site-packages/statsmodels/tsa/base/tsa_model.py:216: ValueWarning: A date index has been provided, but it has no associated frequency information and so will be ignored when e.g. forecasting.\n",
      "  warnings.warn('A date index has been provided, but it has no'\n"
     ]
    },
    {
     "name": "stdout",
     "output_type": "stream",
     "text": [
      "Entrenando con los datos desde la serie Xf\n"
     ]
    },
    {
     "name": "stderr",
     "output_type": "stream",
     "text": [
      "/home/pablo/.local/lib/python3.8/site-packages/statsmodels/tsa/base/tsa_model.py:580: ValueWarning: No supported index is available. Prediction results will be given with an integer index beginning at `start`.\n",
      "  warnings.warn('No supported index is available.'\n"
     ]
    }
   ],
   "source": [
    "UC_predictions_ARIMA = modelling_ARIMA(uc_g, 'USD-CAD')"
   ]
  },
  {
   "cell_type": "code",
   "execution_count": 50,
   "metadata": {},
   "outputs": [
    {
     "name": "stdout",
     "output_type": "stream",
     "text": [
      "AR Model X ->  MSE=0.00015176871047022019  RMSE=0.012319444405906469  MAPE=0.8058589278240358  MAE=0.010584234635007692\n",
      "AR Model Xf ->  MSE=0.00015160379651125056  RMSE=0.012312749348185829  MAPE=0.8057682571433928  MAE=0.010583139335968918\n"
     ]
    }
   ],
   "source": [
    "mse, rmse, mape, mae = get_metrics(UC_predictions_ARIMA, uc_g, 'USD-CAD')"
   ]
  },
  {
   "cell_type": "code",
   "execution_count": 51,
   "metadata": {},
   "outputs": [],
   "source": [
    "# LSTM"
   ]
  },
  {
   "cell_type": "code",
   "execution_count": 52,
   "metadata": {},
   "outputs": [],
   "source": [
    "usdcad = pd.read_csv('./Input/USDCAD-2000-2020-15m.csv')\n",
    "usdcad_LSTM = red_LSTM(usdcad, 'USD-CAD', '2019-12-01 23:45:00','2020-01-01 00:00:00')"
   ]
  },
  {
   "cell_type": "code",
   "execution_count": 53,
   "metadata": {},
   "outputs": [
    {
     "name": "stdout",
     "output_type": "stream",
     "text": [
      "Epoch 1/4\n",
      "22293/22293 [==============================] - 82s 4ms/step - loss: 0.0025 - mae: 0.0274\n",
      "Epoch 2/4\n",
      "22293/22293 [==============================] - 77s 3ms/step - loss: 8.2946e-04 - mae: 0.0197\n",
      "Epoch 3/4\n",
      "22293/22293 [==============================] - 74s 3ms/step - loss: 8.0841e-04 - mae: 0.0193\n",
      "Epoch 4/4\n",
      "22293/22293 [==============================] - 75s 3ms/step - loss: 8.0423e-04 - mae: 0.0191\n"
     ]
    }
   ],
   "source": [
    "model_LSTM, model, X_test, y_test, y_scaler = modelling_LSTM(usdcad_LSTM, 'USD-CAD',4)"
   ]
  },
  {
   "cell_type": "code",
   "execution_count": 54,
   "metadata": {},
   "outputs": [
    {
     "data": {
      "text/html": [
       "<div>\n",
       "<style scoped>\n",
       "    .dataframe tbody tr th:only-of-type {\n",
       "        vertical-align: middle;\n",
       "    }\n",
       "\n",
       "    .dataframe tbody tr th {\n",
       "        vertical-align: top;\n",
       "    }\n",
       "\n",
       "    .dataframe thead th {\n",
       "        text-align: right;\n",
       "    }\n",
       "</style>\n",
       "<table border=\"1\" class=\"dataframe\">\n",
       "  <thead>\n",
       "    <tr style=\"text-align: right;\">\n",
       "      <th></th>\n",
       "      <th>predicted</th>\n",
       "      <th>GT</th>\n",
       "    </tr>\n",
       "  </thead>\n",
       "  <tbody>\n",
       "    <tr>\n",
       "      <th>0</th>\n",
       "      <td>1.327417</td>\n",
       "      <td>1.32738</td>\n",
       "    </tr>\n",
       "    <tr>\n",
       "      <th>1</th>\n",
       "      <td>1.326969</td>\n",
       "      <td>1.32657</td>\n",
       "    </tr>\n",
       "    <tr>\n",
       "      <th>2</th>\n",
       "      <td>1.326914</td>\n",
       "      <td>1.32630</td>\n",
       "    </tr>\n",
       "    <tr>\n",
       "      <th>3</th>\n",
       "      <td>1.327131</td>\n",
       "      <td>1.32682</td>\n",
       "    </tr>\n",
       "    <tr>\n",
       "      <th>4</th>\n",
       "      <td>1.327449</td>\n",
       "      <td>1.32692</td>\n",
       "    </tr>\n",
       "    <tr>\n",
       "      <th>...</th>\n",
       "      <td>...</td>\n",
       "      <td>...</td>\n",
       "    </tr>\n",
       "    <tr>\n",
       "      <th>2473</th>\n",
       "      <td>1.297094</td>\n",
       "      <td>1.29564</td>\n",
       "    </tr>\n",
       "    <tr>\n",
       "      <th>2474</th>\n",
       "      <td>1.297475</td>\n",
       "      <td>1.29624</td>\n",
       "    </tr>\n",
       "    <tr>\n",
       "      <th>2475</th>\n",
       "      <td>1.297937</td>\n",
       "      <td>1.29758</td>\n",
       "    </tr>\n",
       "    <tr>\n",
       "      <th>2476</th>\n",
       "      <td>1.298083</td>\n",
       "      <td>1.29805</td>\n",
       "    </tr>\n",
       "    <tr>\n",
       "      <th>2477</th>\n",
       "      <td>1.297904</td>\n",
       "      <td>1.29750</td>\n",
       "    </tr>\n",
       "  </tbody>\n",
       "</table>\n",
       "<p>2478 rows × 2 columns</p>\n",
       "</div>"
      ],
      "text/plain": [
       "      predicted       GT\n",
       "0      1.327417  1.32738\n",
       "1      1.326969  1.32657\n",
       "2      1.326914  1.32630\n",
       "3      1.327131  1.32682\n",
       "4      1.327449  1.32692\n",
       "...         ...      ...\n",
       "2473   1.297094  1.29564\n",
       "2474   1.297475  1.29624\n",
       "2475   1.297937  1.29758\n",
       "2476   1.298083  1.29805\n",
       "2477   1.297904  1.29750\n",
       "\n",
       "[2478 rows x 2 columns]"
      ]
     },
     "execution_count": 54,
     "metadata": {},
     "output_type": "execute_result"
    }
   ],
   "source": [
    "usdcad_predicts = get_pred_LSTM(model_LSTM, model, X_test, y_test, y_scaler)\n",
    "usdcad_predicts"
   ]
  },
  {
   "cell_type": "code",
   "execution_count": 55,
   "metadata": {},
   "outputs": [
    {
     "name": "stdout",
     "output_type": "stream",
     "text": [
      "MSE :  1.219216980426838e-07\n",
      "MAE :  0.00030136238895184036\n"
     ]
    }
   ],
   "source": [
    "print(\"MSE : \", mean_squared_error(usdcad_predicts['predicted'].values, usdcad_predicts['GT'].values))\n",
    "print(\"MAE : \", mean_absolute_error(usdcad_predicts['predicted'].values, usdcad_predicts['GT'].values))"
   ]
  },
  {
   "cell_type": "markdown",
   "metadata": {},
   "source": [
    "# USD-CHF"
   ]
  },
  {
   "cell_type": "code",
   "execution_count": 56,
   "metadata": {},
   "outputs": [],
   "source": [
    "uch = pd.read_csv('./Input/USDCHF-2000-2020-15m.csv')\n",
    "uch_ = get_sample(uch,'2018-12-31 23:45:00','2020-01-01 00:00:00')\n",
    "uch_g = renaming(uch_, 'USD-CHF')"
   ]
  },
  {
   "cell_type": "code",
   "execution_count": 57,
   "metadata": {},
   "outputs": [
    {
     "name": "stdout",
     "output_type": "stream",
     "text": [
      "Entrenando con los datos desde la serie X\n",
      "Entrenando con los datos desde la serie Xf\n"
     ]
    },
    {
     "name": "stderr",
     "output_type": "stream",
     "text": [
      "/home/pablo/.local/lib/python3.8/site-packages/statsmodels/tsa/ar_model.py:691: FutureWarning: \n",
      "statsmodels.tsa.AR has been deprecated in favor of statsmodels.tsa.AutoReg and\n",
      "statsmodels.tsa.SARIMAX.\n",
      "\n",
      "AutoReg adds the ability to specify exogenous variables, include time trends,\n",
      "and add seasonal dummies. The AutoReg API differs from AR since the model is\n",
      "treated as immutable, and so the entire specification including the lag\n",
      "length must be specified when creating the model. This change is too\n",
      "substantial to incorporate into the existing AR api. The function\n",
      "ar_select_order performs lag length selection for AutoReg models.\n",
      "\n",
      "AutoReg only estimates parameters using conditional MLE (OLS). Use SARIMAX to\n",
      "estimate ARX and related models using full MLE via the Kalman Filter.\n",
      "\n",
      "To silence this warning and continue using AR until it is removed, use:\n",
      "\n",
      "import warnings\n",
      "warnings.filterwarnings('ignore', 'statsmodels.tsa.ar_model.AR', FutureWarning)\n",
      "\n",
      "  warnings.warn(AR_DEPRECATION_WARN, FutureWarning)\n",
      "/home/pablo/.local/lib/python3.8/site-packages/statsmodels/tsa/base/tsa_model.py:216: ValueWarning: A date index has been provided, but it has no associated frequency information and so will be ignored when e.g. forecasting.\n",
      "  warnings.warn('A date index has been provided, but it has no'\n",
      "/home/pablo/.local/lib/python3.8/site-packages/statsmodels/tsa/base/tsa_model.py:580: ValueWarning: No supported index is available. Prediction results will be given with an integer index beginning at `start`.\n",
      "  warnings.warn('No supported index is available.'\n",
      "/home/pablo/.local/lib/python3.8/site-packages/statsmodels/tsa/base/tsa_model.py:216: ValueWarning: A date index has been provided, but it has no associated frequency information and so will be ignored when e.g. forecasting.\n",
      "  warnings.warn('A date index has been provided, but it has no'\n",
      "/home/pablo/.local/lib/python3.8/site-packages/statsmodels/tsa/base/tsa_model.py:580: ValueWarning: No supported index is available. Prediction results will be given with an integer index beginning at `start`.\n",
      "  warnings.warn('No supported index is available.'\n"
     ]
    }
   ],
   "source": [
    "UCH_predictions_AR = modelling_AR(uch_g, 'USD-CHF')"
   ]
  },
  {
   "cell_type": "code",
   "execution_count": 58,
   "metadata": {},
   "outputs": [
    {
     "name": "stdout",
     "output_type": "stream",
     "text": [
      "AR Model X ->  MSE=0.0002597070435926536  RMSE=0.01611542874368081  MAPE=1.534567919958301  MAE=0.01505062488052256\n",
      "AR Model Xf ->  MSE=0.00019715294563072764  RMSE=0.014041116253016626  MAPE=1.3240289129443967  MAE=0.012984486520519279\n"
     ]
    }
   ],
   "source": [
    "mse, rmse, mape, mae = get_metrics(UCH_predictions_AR, uch_g, 'USD-CHF')"
   ]
  },
  {
   "cell_type": "code",
   "execution_count": 59,
   "metadata": {},
   "outputs": [
    {
     "name": "stderr",
     "output_type": "stream",
     "text": [
      "/home/pablo/.local/lib/python3.8/site-packages/statsmodels/tsa/base/tsa_model.py:216: ValueWarning: A date index has been provided, but it has no associated frequency information and so will be ignored when e.g. forecasting.\n",
      "  warnings.warn('A date index has been provided, but it has no'\n"
     ]
    },
    {
     "name": "stdout",
     "output_type": "stream",
     "text": [
      "Entrenando con los datos desde la serie X\n"
     ]
    },
    {
     "name": "stderr",
     "output_type": "stream",
     "text": [
      "/home/pablo/.local/lib/python3.8/site-packages/statsmodels/tsa/base/tsa_model.py:580: ValueWarning: No supported index is available. Prediction results will be given with an integer index beginning at `start`.\n",
      "  warnings.warn('No supported index is available.'\n",
      "/home/pablo/.local/lib/python3.8/site-packages/statsmodels/tsa/base/tsa_model.py:216: ValueWarning: A date index has been provided, but it has no associated frequency information and so will be ignored when e.g. forecasting.\n",
      "  warnings.warn('A date index has been provided, but it has no'\n"
     ]
    },
    {
     "name": "stdout",
     "output_type": "stream",
     "text": [
      "Entrenando con los datos desde la serie Xf\n"
     ]
    },
    {
     "name": "stderr",
     "output_type": "stream",
     "text": [
      "/home/pablo/.local/lib/python3.8/site-packages/statsmodels/tsa/base/tsa_model.py:580: ValueWarning: No supported index is available. Prediction results will be given with an integer index beginning at `start`.\n",
      "  warnings.warn('No supported index is available.'\n"
     ]
    }
   ],
   "source": [
    "UCH_predictions_ARIMA = modelling_ARIMA(uch_g, 'USD-CHF')"
   ]
  },
  {
   "cell_type": "code",
   "execution_count": 60,
   "metadata": {},
   "outputs": [
    {
     "name": "stdout",
     "output_type": "stream",
     "text": [
      "AR Model X ->  MSE=0.00017340662295091652  RMSE=0.01316839485096481  MAPE=1.206363854358353  MAE=0.011824660144079138\n",
      "AR Model Xf ->  MSE=0.00017326048154725095  RMSE=0.01316284473612186  MAPE=1.2060969870079636  MAE=0.011822151938955892\n"
     ]
    }
   ],
   "source": [
    "mse, rmse, mape, mae = get_metrics(UCH_predictions_ARIMA, uch_g, 'USD-CHF')"
   ]
  },
  {
   "cell_type": "code",
   "execution_count": 61,
   "metadata": {},
   "outputs": [],
   "source": [
    "# LSTM"
   ]
  },
  {
   "cell_type": "code",
   "execution_count": 62,
   "metadata": {},
   "outputs": [],
   "source": [
    "usdchf = pd.read_csv('./Input/USDCHF-2000-2020-15m.csv')\n",
    "usdchf_LSTM = red_LSTM(usdchf, 'USD-CHF', '2019-12-01 23:45:00','2020-01-01 00:00:00')"
   ]
  },
  {
   "cell_type": "code",
   "execution_count": 63,
   "metadata": {},
   "outputs": [
    {
     "name": "stdout",
     "output_type": "stream",
     "text": [
      "Epoch 1/4\n",
      "22293/22293 [==============================] - 75s 3ms/step - loss: 0.0029 - mae: 0.0296\n",
      "Epoch 2/4\n",
      "22293/22293 [==============================] - 79s 4ms/step - loss: 0.0010 - mae: 0.0210\n",
      "Epoch 3/4\n",
      "22293/22293 [==============================] - 77s 3ms/step - loss: 9.6839e-04 - mae: 0.0206\n",
      "Epoch 4/4\n",
      "22293/22293 [==============================] - 82s 4ms/step - loss: 9.5714e-04 - mae: 0.0203\n"
     ]
    }
   ],
   "source": [
    "model_LSTM, model, X_test, y_test, y_scaler = modelling_LSTM(usdchf_LSTM, 'USD-CHF',4)"
   ]
  },
  {
   "cell_type": "code",
   "execution_count": 64,
   "metadata": {},
   "outputs": [
    {
     "data": {
      "text/html": [
       "<div>\n",
       "<style scoped>\n",
       "    .dataframe tbody tr th:only-of-type {\n",
       "        vertical-align: middle;\n",
       "    }\n",
       "\n",
       "    .dataframe tbody tr th {\n",
       "        vertical-align: top;\n",
       "    }\n",
       "\n",
       "    .dataframe thead th {\n",
       "        text-align: right;\n",
       "    }\n",
       "</style>\n",
       "<table border=\"1\" class=\"dataframe\">\n",
       "  <thead>\n",
       "    <tr style=\"text-align: right;\">\n",
       "      <th></th>\n",
       "      <th>predicted</th>\n",
       "      <th>GT</th>\n",
       "    </tr>\n",
       "  </thead>\n",
       "  <tbody>\n",
       "    <tr>\n",
       "      <th>0</th>\n",
       "      <td>0.994658</td>\n",
       "      <td>0.99430</td>\n",
       "    </tr>\n",
       "    <tr>\n",
       "      <th>1</th>\n",
       "      <td>0.994737</td>\n",
       "      <td>0.99443</td>\n",
       "    </tr>\n",
       "    <tr>\n",
       "      <th>2</th>\n",
       "      <td>0.994807</td>\n",
       "      <td>0.99441</td>\n",
       "    </tr>\n",
       "    <tr>\n",
       "      <th>3</th>\n",
       "      <td>0.994988</td>\n",
       "      <td>0.99473</td>\n",
       "    </tr>\n",
       "    <tr>\n",
       "      <th>4</th>\n",
       "      <td>0.995211</td>\n",
       "      <td>0.99475</td>\n",
       "    </tr>\n",
       "    <tr>\n",
       "      <th>...</th>\n",
       "      <td>...</td>\n",
       "      <td>...</td>\n",
       "    </tr>\n",
       "    <tr>\n",
       "      <th>2473</th>\n",
       "      <td>0.967124</td>\n",
       "      <td>0.96770</td>\n",
       "    </tr>\n",
       "    <tr>\n",
       "      <th>2474</th>\n",
       "      <td>0.966918</td>\n",
       "      <td>0.96776</td>\n",
       "    </tr>\n",
       "    <tr>\n",
       "      <th>2475</th>\n",
       "      <td>0.966667</td>\n",
       "      <td>0.96734</td>\n",
       "    </tr>\n",
       "    <tr>\n",
       "      <th>2476</th>\n",
       "      <td>0.966364</td>\n",
       "      <td>0.96757</td>\n",
       "    </tr>\n",
       "    <tr>\n",
       "      <th>2477</th>\n",
       "      <td>0.966145</td>\n",
       "      <td>0.96721</td>\n",
       "    </tr>\n",
       "  </tbody>\n",
       "</table>\n",
       "<p>2478 rows × 2 columns</p>\n",
       "</div>"
      ],
      "text/plain": [
       "      predicted       GT\n",
       "0      0.994658  0.99430\n",
       "1      0.994737  0.99443\n",
       "2      0.994807  0.99441\n",
       "3      0.994988  0.99473\n",
       "4      0.995211  0.99475\n",
       "...         ...      ...\n",
       "2473   0.967124  0.96770\n",
       "2474   0.966918  0.96776\n",
       "2475   0.966667  0.96734\n",
       "2476   0.966364  0.96757\n",
       "2477   0.966145  0.96721\n",
       "\n",
       "[2478 rows x 2 columns]"
      ]
     },
     "execution_count": 64,
     "metadata": {},
     "output_type": "execute_result"
    }
   ],
   "source": [
    "usdchf_predicts = get_pred_LSTM(model_LSTM, model, X_test, y_test, y_scaler)\n",
    "usdchf_predicts"
   ]
  },
  {
   "cell_type": "code",
   "execution_count": 65,
   "metadata": {},
   "outputs": [
    {
     "name": "stdout",
     "output_type": "stream",
     "text": [
      "MSE :  2.127671385084142e-07\n",
      "MAE :  0.00040612818377459684\n"
     ]
    }
   ],
   "source": [
    "print(\"MSE : \", mean_squared_error(usdchf_predicts['predicted'].values, usdchf_predicts['GT'].values))\n",
    "print(\"MAE : \", mean_absolute_error(usdchf_predicts['predicted'].values, usdchf_predicts['GT'].values))"
   ]
  },
  {
   "cell_type": "code",
   "execution_count": null,
   "metadata": {},
   "outputs": [],
   "source": []
  },
  {
   "cell_type": "code",
   "execution_count": 3,
   "metadata": {},
   "outputs": [],
   "source": [
    "u = pd.read_csv('./Input/EURUSD-2000-2020-15m.csv')\n",
    "ud = get_sample(u,'2018-12-31 23:45:00','2020-01-01 00:00:00')\n",
    "udd = renaming(ud, 'EUR-USD')"
   ]
  },
  {
   "cell_type": "code",
   "execution_count": 4,
   "metadata": {},
   "outputs": [
    {
     "name": "stderr",
     "output_type": "stream",
     "text": [
      "/home/pablo/.local/lib/python3.8/site-packages/statsmodels/tsa/ar_model.py:691: FutureWarning: \n",
      "statsmodels.tsa.AR has been deprecated in favor of statsmodels.tsa.AutoReg and\n",
      "statsmodels.tsa.SARIMAX.\n",
      "\n",
      "AutoReg adds the ability to specify exogenous variables, include time trends,\n",
      "and add seasonal dummies. The AutoReg API differs from AR since the model is\n",
      "treated as immutable, and so the entire specification including the lag\n",
      "length must be specified when creating the model. This change is too\n",
      "substantial to incorporate into the existing AR api. The function\n",
      "ar_select_order performs lag length selection for AutoReg models.\n",
      "\n",
      "AutoReg only estimates parameters using conditional MLE (OLS). Use SARIMAX to\n",
      "estimate ARX and related models using full MLE via the Kalman Filter.\n",
      "\n",
      "To silence this warning and continue using AR until it is removed, use:\n",
      "\n",
      "import warnings\n",
      "warnings.filterwarnings('ignore', 'statsmodels.tsa.ar_model.AR', FutureWarning)\n",
      "\n",
      "  warnings.warn(AR_DEPRECATION_WARN, FutureWarning)\n",
      "/home/pablo/.local/lib/python3.8/site-packages/statsmodels/tsa/base/tsa_model.py:216: ValueWarning: A date index has been provided, but it has no associated frequency information and so will be ignored when e.g. forecasting.\n",
      "  warnings.warn('A date index has been provided, but it has no'\n",
      "/home/pablo/.local/lib/python3.8/site-packages/statsmodels/tsa/base/tsa_model.py:580: ValueWarning: No supported index is available. Prediction results will be given with an integer index beginning at `start`.\n",
      "  warnings.warn('No supported index is available.'\n",
      "/home/pablo/.local/lib/python3.8/site-packages/statsmodels/tsa/base/tsa_model.py:216: ValueWarning: A date index has been provided, but it has no associated frequency information and so will be ignored when e.g. forecasting.\n",
      "  warnings.warn('A date index has been provided, but it has no'\n",
      "/home/pablo/.local/lib/python3.8/site-packages/statsmodels/tsa/base/tsa_model.py:580: ValueWarning: No supported index is available. Prediction results will be given with an integer index beginning at `start`.\n",
      "  warnings.warn('No supported index is available.'\n"
     ]
    },
    {
     "name": "stdout",
     "output_type": "stream",
     "text": [
      "Entrenando con los datos desde la serie X\n",
      "Entrenando con los datos desde la serie Xf\n"
     ]
    }
   ],
   "source": [
    "d_predictions_AR = modelling_AR(udd, 'EUR-USD')"
   ]
  },
  {
   "cell_type": "code",
   "execution_count": 5,
   "metadata": {},
   "outputs": [
    {
     "name": "stdout",
     "output_type": "stream",
     "text": [
      "AR Model X ->  MSE=3.627733280736531e-05  RMSE=0.006023066727786212  MAPE=0.44605689969933365  MAE=0.004968437396916953\n",
      "AR Model Xf ->  MSE=3.6090646327217015e-05  RMSE=0.006007549111511034  MAPE=0.45287004293971334  MAE=0.005027012750025856\n"
     ]
    }
   ],
   "source": [
    "mse, rmse, mape, mae = get_metrics(d_predictions_AR, udd, 'EUR-USD')"
   ]
  },
  {
   "cell_type": "code",
   "execution_count": 6,
   "metadata": {},
   "outputs": [
    {
     "name": "stderr",
     "output_type": "stream",
     "text": [
      "/home/pablo/.local/lib/python3.8/site-packages/statsmodels/tsa/base/tsa_model.py:216: ValueWarning: A date index has been provided, but it has no associated frequency information and so will be ignored when e.g. forecasting.\n",
      "  warnings.warn('A date index has been provided, but it has no'\n"
     ]
    },
    {
     "name": "stdout",
     "output_type": "stream",
     "text": [
      "Entrenando con los datos desde la serie X\n"
     ]
    },
    {
     "name": "stderr",
     "output_type": "stream",
     "text": [
      "/home/pablo/.local/lib/python3.8/site-packages/statsmodels/tsa/base/tsa_model.py:580: ValueWarning: No supported index is available. Prediction results will be given with an integer index beginning at `start`.\n",
      "  warnings.warn('No supported index is available.'\n",
      "/home/pablo/.local/lib/python3.8/site-packages/statsmodels/tsa/base/tsa_model.py:216: ValueWarning: A date index has been provided, but it has no associated frequency information and so will be ignored when e.g. forecasting.\n",
      "  warnings.warn('A date index has been provided, but it has no'\n"
     ]
    },
    {
     "name": "stdout",
     "output_type": "stream",
     "text": [
      "Entrenando con los datos desde la serie Xf\n"
     ]
    },
    {
     "name": "stderr",
     "output_type": "stream",
     "text": [
      "/home/pablo/.local/lib/python3.8/site-packages/statsmodels/tsa/base/tsa_model.py:580: ValueWarning: No supported index is available. Prediction results will be given with an integer index beginning at `start`.\n",
      "  warnings.warn('No supported index is available.'\n"
     ]
    }
   ],
   "source": [
    "d_predictions_ARa = modelling_ARIMA(udd, 'EUR-USD')"
   ]
  },
  {
   "cell_type": "code",
   "execution_count": 7,
   "metadata": {},
   "outputs": [
    {
     "name": "stdout",
     "output_type": "stream",
     "text": [
      "AR Model X ->  MSE=0.00010259047069112267  RMSE=0.010128695409139455  MAPE=0.8288965212606013  MAE=0.009193249883317543\n",
      "AR Model Xf ->  MSE=0.00010233317821826405  RMSE=0.010115986270169807  MAPE=0.8281034865195951  MAE=0.009184528267107073\n"
     ]
    }
   ],
   "source": [
    "mse, rmse, mape, mae = get_metrics(d_predictions_ARa, udd, 'EUR-USD')"
   ]
  },
  {
   "cell_type": "code",
   "execution_count": null,
   "metadata": {},
   "outputs": [],
   "source": []
  }
 ],
 "metadata": {
  "kernelspec": {
   "display_name": "Python 3",
   "language": "python",
   "name": "python3"
  },
  "language_info": {
   "codemirror_mode": {
    "name": "ipython",
    "version": 3
   },
   "file_extension": ".py",
   "mimetype": "text/x-python",
   "name": "python",
   "nbconvert_exporter": "python",
   "pygments_lexer": "ipython3",
   "version": "3.8.2"
  }
 },
 "nbformat": 4,
 "nbformat_minor": 4
}
